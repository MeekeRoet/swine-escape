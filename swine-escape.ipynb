{
 "cells": [
  {
   "cell_type": "code",
   "execution_count": 1,
   "metadata": {
    "collapsed": true
   },
   "outputs": [],
   "source": [
    "%matplotlib inline"
   ]
  },
  {
   "cell_type": "code",
   "execution_count": 117,
   "metadata": {
    "collapsed": true
   },
   "outputs": [],
   "source": [
    "import numpy as np\n",
    "import pandas as pd\n",
    "import seaborn as sns\n",
    "import itertools\n",
    "import csv\n",
    "import matplotlib.pyplot as plt\n",
    "from matplotlib.animation import FuncAnimation\n",
    "from matplotlib import rc\n",
    "plt.style.use('ggplot')"
   ]
  },
  {
   "cell_type": "markdown",
   "metadata": {},
   "source": [
    "# Game instructions\n",
    "Consider the following board game: A game board has 12 spaces. The swine senses the Christmas spirit and manages to run away from home couple of weeks beforehand. Fortunately for it, the butcher is a bit of a drunkard and easily distracted. The swine starts on space 7, and a butcher on space 1. On each game turn a 6-sided die is rolled. On a result of 1 to 3, the swine moves that many spaces forward. On a result of 5 or 6, the butcher moves that many spaces forward. On result 4, both advance one space forward. The swine wins if it reaches the river at space 12 (the final roll does not have to be exact, moving past space 12 is OK). The butcher wins if he catches up with the swine (or moves past it).\n",
    "\n",
    "What are the probabilities of winning for the swine and the butcher?\n",
    "\n",
    "Your assignment is to create a mathematical or statistical model to find these probabilities, and implement the solution as a computer program in whatever language you like. You will present it during the interview and we will discuss it with you. \n",
    "\n",
    "Consider the following questions as well: \n",
    "- Can you make your model easily extendable for different initial conditions (board size and initial positions)?\n",
    "- Pros and cons of the approach?\n",
    "- Can you say something about how long the game takes (also under different initial conditions)?"
   ]
  },
  {
   "cell_type": "code",
   "execution_count": 115,
   "metadata": {
    "collapsed": true
   },
   "outputs": [],
   "source": [
    "# Set moves for the swine.\n",
    "swine_moveset = {\n",
    "    1: 1,\n",
    "    2: 2,\n",
    "    3: 3,\n",
    "    4: 1,\n",
    "    5: 0,\n",
    "    6: 0\n",
    "}\n",
    "\n",
    "# Set moves for the butcher.\n",
    "butcher_moveset = {\n",
    "    1: 0,\n",
    "    2: 0,\n",
    "    3: 0,\n",
    "    4: 1,\n",
    "    5: 5,\n",
    "    6: 6\n",
    "}"
   ]
  },
  {
   "cell_type": "code",
   "execution_count": 5,
   "metadata": {
    "collapsed": true
   },
   "outputs": [],
   "source": [
    "def play_game(param_dict, swine_moveset, butcher_moveset, return_moves = False):\n",
    "    ''' Conduct one run of the butcher & swine game with parameters given in *param_dict*, a dictionary of:\n",
    "    - board_size (location of the river)\n",
    "    - swine_start (starting position of the swine)\n",
    "    - butcher_start (starting position of the butcher)\n",
    "    \n",
    "    and dictionaries *swine_moveset* and *butcher_moveset* containing the relation between dice outcome and agents' moves.\n",
    "    \n",
    "    Return the winner of the game, number of turns played, and if desired the moves made by both agents.\n",
    "    \n",
    "    '''\n",
    "    \n",
    "    # Get initial positions.\n",
    "    swine_pos = param_dict['swine_start']\n",
    "    butcher_pos = param_dict['butcher_start']\n",
    "    river_pos = param_dict['board_size']\n",
    "    \n",
    "    # Check if initial positions are valid.\n",
    "    if butcher_pos >= swine_pos:\n",
    "        raise ValueError('Error in starting positions: The swine has to start ahead of the butcher.')\n",
    "    elif swine_pos >= river_pos:\n",
    "        raise ValueError('Error in starting positions: The river has to lie ahead of the swine.')\n",
    "    \n",
    "    # Initiate dictionary to save the moves throughout the game.\n",
    "    if return_moves == True:\n",
    "        moves = {'swine': [swine_pos], 'butcher': [butcher_pos], 'dice_throws': [0]}\n",
    "    \n",
    "    j = 1 # Start turn counter.\n",
    "    \n",
    "    # Keep playing as long as the swine is ahead of the butcher and hasn't reached the river.\n",
    "    while swine_pos > butcher_pos and swine_pos < river_pos:\n",
    "              \n",
    "        dice_throw = np.random.randint(1, 7) # Simulate the dice throw by selecting a random integer from 1 to 6.\n",
    "        swine_pos += swine_moveset[dice_throw] # Update the swine's position.\n",
    "        butcher_pos += butcher_moveset[dice_throw] # Update the butcher's position.\n",
    "        \n",
    "        if return_moves == True:\n",
    "            moves['swine'].append(swine_pos)\n",
    "            moves['butcher'].append(butcher_pos)\n",
    "            moves['dice_throws'].append(dice_throw)\n",
    "        \n",
    "        j += 1\n",
    "    \n",
    "    # Save the winner of the game.\n",
    "    if swine_pos <= butcher_pos:\n",
    "        winner = 'butcher'       \n",
    "    else:\n",
    "        winner = 'swine'\n",
    "    \n",
    "    turns = j # Save the number of turns.\n",
    "    \n",
    "    if return_moves == True:\n",
    "        return winner, turns, moves\n",
    "    else:\n",
    "        return winner, turns"
   ]
  },
  {
   "cell_type": "markdown",
   "metadata": {},
   "source": [
    "# Simulations"
   ]
  },
  {
   "cell_type": "code",
   "execution_count": 86,
   "metadata": {
    "collapsed": true
   },
   "outputs": [],
   "source": [
    "# Specify number of simulations.\n",
    "n_sims = 10\n",
    "\n",
    "# Initial conditions.\n",
    "params = {\n",
    "    'board_size': [12, 16, 20],\n",
    "    'swine_start': [5, 7, 11],\n",
    "    'butcher_start': [1, 4, 7]\n",
    "}\n",
    "\n",
    "init_conditions = list(itertools.product(params['board_size'], params['swine_start'], params['butcher_start']))\n",
    "\n",
    "# Filter out invalid starting positions.\n",
    "init_conditions = list(itertools.compress(init_conditions, [i[1] > i[2] for i in init_conditions]))\n",
    "init_conditions = list(itertools.compress(init_conditions, [i[0] > i[1] for i in init_conditions]))\n",
    "\n",
    "# Create dataframe for simulation results.\n",
    "sim_results = pd.DataFrame(np.zeros((n_sims * len(init_conditions), 5)), columns = ['board_size', 'swine_start', 'butcher_start', 'winner', 'turns'], dtype = int)\n"
   ]
  },
  {
   "cell_type": "code",
   "execution_count": 113,
   "metadata": {
    "scrolled": false
   },
   "outputs": [],
   "source": [
    "for j, config in enumerate(init_conditions):\n",
    "\n",
    "    param_dict = {\n",
    "        'board_size': config[0],\n",
    "        'swine_start': config[1],\n",
    "        'butcher_start': config[2]\n",
    "    }\n",
    "\n",
    "    sim_results.loc[n_sims*j:(n_sims)*(j+1), 'board_size'] = config[0]\n",
    "    sim_results.loc[n_sims*j:(n_sims)*(j+1), 'swine_start'] = config[1]\n",
    "    sim_results.loc[n_sims*j:(n_sims)*(j+1), 'butcher_start'] = config[2]\n",
    "    \n",
    "    # Run the game *n_sims* times and save the results.\n",
    "    for i in range(n_sims):\n",
    "        sim_results.loc[(n_sims)*j + i, ['winner', 'turns']] = play_game(param_dict, swine_moveset, butcher_moveset)"
   ]
  },
  {
   "cell_type": "code",
   "execution_count": 118,
   "metadata": {},
   "outputs": [],
   "source": [
    "sim_results.to_csv('sim_results.csv')"
   ]
  },
  {
   "cell_type": "code",
   "execution_count": 7,
   "metadata": {},
   "outputs": [
    {
     "name": "stdout",
     "output_type": "stream",
     "text": [
      "Winning probabilities based on 10000 simulations: \n",
      "Swine 25.8% \n",
      "Butcher 74.2% \n",
      "\n",
      "Average length of the game: 6.26 turns.\n"
     ]
    },
    {
     "data": {
      "image/png": "[encoded data removed]",
      "text/plain": [
       "<matplotlib.figure.Figure at 0x179b38bc4a8>"
      ]
     },
     "metadata": {},
     "output_type": "display_data"
    }
   ],
   "source": [
    "# Calculate the winning probabilities.\n",
    "winning_probs = (pd.value_counts(sim_results['winner']) / sum(pd.value_counts(sim_results['winner']))) * 100\n",
    "\n",
    "# Display outcomes.\n",
    "print('Winning probabilities based on {} simulations: \\nSwine {:.1f}% \\nButcher {:.1f}% \\n'.format(n_sims, winning_probs['swine'], winning_probs['butcher']))\n",
    "print('Average length of the game: {:.2f} turns.'.format(np.average(sim_results['turns'])))\n",
    "\n",
    "sns.countplot(data = sim_results, x = 'winner')\n",
    "plt.title('Comparison of winning odds')\n",
    "plt.show()"
   ]
  },
  {
   "cell_type": "markdown",
   "metadata": {},
   "source": [
    "# Animation of the game\n",
    "(needs a way to display video, e.g. ffmpeg)"
   ]
  },
  {
   "cell_type": "code",
   "execution_count": 116,
   "metadata": {
    "collapsed": true
   },
   "outputs": [],
   "source": [
    "# Set initial conditions.\n",
    "params = {\n",
    "    'board_size': 20,\n",
    "    'swine_start': 7,\n",
    "    'butcher_start': 1\n",
    "}\n",
    "\n",
    "winner, turns, moves = play_game(params, swine_moveset, butcher_moveset, return_moves = True)\n",
    "swine_moves = np.array(moves['swine'])\n",
    "butcher_moves = np.array(moves['butcher'])\n",
    "dice_outcomes = np.array(moves['dice_throws'])"
   ]
  },
  {
   "cell_type": "code",
   "execution_count": 9,
   "metadata": {},
   "outputs": [
    {
     "data": {
      "image/png": "[encoded data removed]",
      "text/plain": [
       "<matplotlib.figure.Figure at 0x179b8319630>"
      ]
     },
     "metadata": {},
     "output_type": "display_data"
    }
   ],
   "source": [
    "fig, ax = plt.subplots(figsize = (3, 6))\n",
    "ax.set(xlim = (-1, 1), ylim = (0, params['board_size'] + 3))\n",
    "\n",
    "grass = ax.plot([0, 0], [0, params['board_size'] + 3], color = 'limegreen', lw = 180, zorder = 1)\n",
    "road = ax.plot([0, 0], [0, params['board_size'] + 3], color = 'tan', lw = 30, zorder = 2)\n",
    "river = ax.plot([-1, 1], [params['board_size'], params['board_size']], color = 'dodgerblue', lw = 40, zorder = 3)\n",
    "swine = ax.scatter(0, swine_moves[0], color = 'magenta', s = 150, zorder = 4)\n",
    "butcher = ax.scatter(0, butcher_moves[0], color = 'darkslategrey', s = 80, zorder = 4)\n",
    "\n",
    "plt.tick_params(axis = 'x', bottom = 'off', labelbottom = 'off') # Remove x-axis information.\n",
    "\n",
    "def animate(i):\n",
    "    \n",
    "    # Plot course of the game graphically.\n",
    "    y_i_swine = swine_moves[i]\n",
    "    y_i_farmer = butcher_moves[i]\n",
    "    swine.set_offsets(np.c_[0, y_i_swine])\n",
    "    butcher.set_offsets(np.c_[0, y_i_farmer])\n",
    "    \n",
    "    # Display course of the game textually.\n",
    "    if i == 0:\n",
    "        ax.set_title('Start')\n",
    "    elif i == turns - 1:\n",
    "        ax.set_title('Round ' + str(i) + ': dice outcome is ' + str(dice_outcomes[i]) + '\\nThe ' + winner + ' won!')\n",
    "    else:\n",
    "        ax.set_title('Round ' + str(i) + ': dice outcome is ' + str(dice_outcomes[i]))\n",
    "    \n",
    "anim = FuncAnimation(\n",
    "    fig, animate, interval = 1500, frames = turns)"
   ]
  },
  {
   "cell_type": "code",
   "execution_count": 10,
   "metadata": {},
   "outputs": [
    {
     "data": {
      "text/html": [
       "<video width=\"216\" height=\"432\" controls autoplay loop>\n",
       "  <source type=\"video/mp4\" src=\"data:video/mp4;base64,AAAAHGZ0eXBNNFYgAAACAGlzb21pc28yYXZjMQAAAAhmcmVlAAAYzm1kYXQAAAKtBgX//6ncRem9\n",
       "5tlIt5Ys2CDZI+7veDI2NCAtIGNvcmUgMTUyIHIyODUxIGJhMjQ4OTkgLSBILjI2NC9NUEVHLTQg\n",
       "QVZDIGNvZGVjIC0gQ29weWxlZnQgMjAwMy0yMDE3IC0gaHR0cDovL3d3dy52aWRlb2xhbi5vcmcv\n",
       "eDI2NC5odG1sIC0gb3B0aW9uczogY2FiYWM9MSByZWY9MyBkZWJsb2NrPTE6MDowIGFuYWx5c2U9\n",
       "MHgzOjB4MTEzIG1lPWhleCBzdWJtZT03IHBzeT0xIHBzeV9yZD0xLjAwOjAuMDAgbWl4ZWRfcmVm\n",
       "PTEgbWVfcmFuZ2U9MTYgY2hyb21hX21lPTEgdHJlbGxpcz0xIDh4OGRjdD0xIGNxbT0wIGRlYWR6\n",
       "b25lPTIxLDExIGZhc3RfcHNraXA9MSBjaHJvbWFfcXBfb2Zmc2V0PS0yIHRocmVhZHM9NiBsb29r\n",
       "YWhlYWRfdGhyZWFkcz0xIHNsaWNlZF90aHJlYWRzPTAgbnI9MCBkZWNpbWF0ZT0xIGludGVybGFj\n",
       "ZWQ9MCBibHVyYXlfY29tcGF0PTAgY29uc3RyYWluZWRfaW50cmE9MCBiZnJhbWVzPTMgYl9weXJh\n",
       "bWlkPTIgYl9hZGFwdD0xIGJfYmlhcz0wIGRpcmVjdD0xIHdlaWdodGI9MSBvcGVuX2dvcD0wIHdl\n",
       "aWdodHA9MiBrZXlpbnQ9MjUwIGtleWludF9taW49MSBzY2VuZWN1dD00MCBpbnRyYV9yZWZyZXNo\n",
       "PTAgcmNfbG9va2FoZWFkPTQwIHJjPWNyZiBtYnRyZWU9MSBjcmY9MjMuMCBxY29tcD0wLjYwIHFw\n",
       "bWluPTAgcXBtYXg9NjkgcXBzdGVwPTQgaXBfcmF0aW89MS40MCBhcT0xOjEuMDAAgAAACBtliIQA\n",
       "F//+99S3zLLtU2+2C6j3op4mX0N1JQGblsTw4rfFSbpAu1ju+RXUT//ntwFagA/c1Ho4ieIwej94\n",
       "RClAoxiuMypKpvurzA4M6GiDNBIRxFYPJDbfNK11V1DCwe3A5bH772eRi2S4FZkw7PZUgdovmDhf\n",
       "mfh7WWcLGI2HL0bGO+mUWgrylM15tb1ZWzhVZPiEG69uDBx87+Rfuo3v30siJW7lJRk9rg8EEy5B\n",
       "Z9UmdHf71q9vOYBHg9Hwt6ELJQveKlNjMnj1ZoN0NnsESuewXaz+8U4gIwUNdsE1EXsbqrDl31fd\n",
       "mQL9vJ5kDfsKKS3KkkodxsHmR7AyNWyDMAbgdUVV7TEH/LeXVdwNUsKyWOcetdmGp8WT60i6SLMg\n",
       "IzGaEWGFk+VbeO1B9DtuDK1ZP/KM7lZ6A5cMhzPjU2lDO5+BHcBdElOGQfPtTU5C6ABLZ4nEEcne\n",
       "n/ttvwXhA8xMYr85odJFMa1OuVypauV50L/MpvgJRn4JWYJ4R4/WmPeJEouSJbFuL2rPXD/WPUbg\n",
       "Ygcp8tnx7mRQpVyZnjITxsp8+Qcei6eCxjdhZpaFrHDeOKM45ojpcMVtItnzkAZgKz9TQQ3DlQy7\n",
       "3QYZWNLJAI4XZc5gMb0SzRFaI/lMipCx0yJHzZOhxNMTFcEOCHvJaDNhZDfLIjaTU6KWsgiTsyVP\n",
       "O+tBcvpD4lQ1+x1xEYN92XuVSKwo8sqvn+LH05QFc/c4Cf5NXrGtVlfcRNu7agK7Sv/9r9a+b3Ed\n",
       "6FyDMNrp+VmJm1qsPkMHT6M4GGAmocRhw/0YHkpWY6V7j2Qg1l8Gv+sZr4XqM1Ufky5Pauu49SMF\n",
       "HEpq50COLTc/Gg2KgbMEiJdo9YoQDAEyQYcxDBB6Z9EsnObPZV9+PtgoPeqATZ8fYkN88LEPhYIT\n",
       "PjlQPCnWw0u+E4/tEHXA8MXTRwF8N90MQvD9e/8v/ajiAmbfdnUebC2xseBi4aWtIOtTr3P6d2A4\n",
       "8cEPxw27kxtQFQITmCPPBxaRATT/m2UcBlE5gs5mDacwvue4836kpw36iqrP7jdFAAU2nyoMsor3\n",
       "zBli+Rh8QFUaxh2m4MvcSXoFn5UQvKJndQilCl1DPXe87ty+bbrXFcBkh8EZPWqrCasOLHucqR/a\n",
       "jLW6lv1+a42xNJ5NuJXXWNuoib+HE50Pg6wgjYYXz1WSUf/aGUKPX7IWVkNeSRMyXwBsAYvyS1Hb\n",
       "hYnYuxsDijH6fhEsXfxcsGIbPiI1yzeZa34sMzwObFV7y7j0T5+gF417w8xZu/BAIgqTBVGzoIlU\n",
       "RnnIA8QxsplbWw2G5gq3D5r1mW/5yu6T4gbwXWRzSC58IECBUeG2BqorfqEMmbTrQ+TkvkzftSyq\n",
       "T4GI6QzIjSQjGllIY16IooO6zO7rfM1XgaVCVWwlh/aA9q1RzQun+vYqPJ0QF0CSwfjm2FPiA2qW\n",
       "tqFlD+UQx6dA8UXZy4gEuDDuVhaVN1/mqXsGtiVipTWI7P239EB1caXIVYLTjKzrMoUHXXtRZRNt\n",
       "ap4WTfiH9y8mtUf7tMcIkuiBd8XumTn587bNwqmRpiO39LTWX/lDvjThMWa63lYjRJ5EdT5auhkY\n",
       "QYJUQX83Mx+xUsxNVrLfAaovUv93QB0mMrBlPMAaFs23ikoN3ZFzPbmkhmfMRlFxwP1tTZGkemre\n",
       "Cg4y7PT4Nu8Wwhw/tKag75loSNO40CQ+FMWfzcBmHf03FbUPlSwfx3cYcAKVAAmzhlxDXDUgK6a0\n",
       "LsekLIYzcf59mTI9+1SpQyTs3cIjPHwhVrNURAhLmvwR3s3wWXS6XHnr//9gcXQnf6S/6+/nrVM1\n",
       "Q/d1prVkRtnaroXBcnpMHJqkhdiPJ9M+rqRhU9WTsG3o21JAjFXyHwj9Vr98h2AzcuTK6wuhIwW7\n",
       "Pnhiyy/q6VNycf2SYfT4qMgN/A7OvnE1fIwFn1j0YNLduSaidrJDNTYwyWpC+T2AV2bUh7J8J0pg\n",
       "dkALooIStzd5Z7T92rHAgBR65eEM3Ox57DyodBFYBEkVEbSMekS39suyemw6uplLEQ2ZEHULPpgg\n",
       "svo/zGxFpCl6vy6a+5qT9aw33rb65joBXYVSy2Is8JxtYgua7doJ0h5gQ3k80TQEMMuRzK+Nfnre\n",
       "OaM91y1vxdXxPW2ZtbvsfAsBeU3gycdcnG7n2kOekdoZPu+2B4rEd6zlF5zhIR30C4gBIDv9Nj0v\n",
       "3+eMOevwSLV5cSmUsis5ASBJnD6K13Eh2ssqVDpRKJL1GqaxfiXXdB5YevjLsimS/91frT3StDxs\n",
       "4rmv6jgalsJHv32ryU41UR1XoFwNJ+tg+6uEEqobUwE6p4pCSXPoyqbXDQ8WdR6GCDkd62mKkV8G\n",
       "sEh16ohbQ+AnykyI4kMo0I4L1dXui2fLi+3ZyBl9fCOIaCo1GJH2mHxxlb+NmMo77qBmKNCBJVHg\n",
       "LlJFDhNzfUbEfA0mXZWXXex6Ppf9m75whGW6+4FMCR0E5sRXdATU9i3c3v7TPtiSi7SaravWDxYv\n",
       "z5mYnbZZ7LTMBx5VGV8sCmK9Ne9AKv8Pu3HUNOoGwZstMboE6JzwJjmir6BNj8Upwbi5YIUM0dfZ\n",
       "kLxpXb+V9Wo4ufZ36tfNZlVw/w4Zlt3etXkaPOypPw6Aq+6nfVuffsWA3Np54WIfiFxE+Iur4RK4\n",
       "/jRzpgWXxP3n3Aq3T5U1TaWTb0pAavQiUnkqnxHCH7H1MaG18Pz9tPNgBOIW6nwb0JUCkPpBi1jW\n",
       "FEmQjz6P+XWv6s2gABFviAACuwAACdRBmiRsQV/+1qZEg/+Q7ANFACa1NtAABG75908RNIIwZiD5\n",
       "8MyW9nk9QUsgOI1TPi2sihLSBS102tGC+uR/mua983iUMTYGCgwf27iThx+VvxfB9s2Awody7IKK\n",
       "YLmxf/Ch3ArVAF6t81GWlb9/6MgOlMqB1d96lUjScZlisgEgzmX8oJEhq0Kdg8o9gZxqCiUv3XmX\n",
       "ouUnO8ImLcrEF34G8Ks+iSN7XHlX4mLBk2j/3plWrE7segTcUl8Hryddph65u4Rgw+IXKDdyUv30\n",
       "wtKH5ZFDfLzEnuXzezfBR6QS9YNO0gchHd7xIqAYDJBFir7a2vw8o6ReIXpqYhPc5sIhgbXNJK2R\n",
       "ECkuqUQsLjX5kwm9jqng46nI/korw503lYvC8g0lPLVDdfDZstSsseIQI1aMSb5npmLSmb8GchvO\n",
       "+IW27msRpNG5gvv/YN6XOWC9iaTw/ZC/pZBjcoAI59kg4VlqAzrilaOmG/0TZn10otq++rjTzGKz\n",
       "SUzSzsUnGUj+iTc/rhgIY9JlvrxzH2zmWd49SNcaa0IUzBdYaNKIVs1wKx3rwyzz71SL5ZjdBKx2\n",
       "k10B5IbWfyyMOM0HWkKVEHyhv5avZxKYy8OCTQAT0BvrSB5yhPH8Ayd3T7U2d8+oOSshrK1w2xpi\n",
       "nma8Xq3S4CVFxjyO66M1hWQWo1iPik47r9CnE0DVdRaA2CN1eGIVWLlh7xP8FnUWJLe2fWQGNi1c\n",
       "EVaxqEpJhXN/R48rYPUA5sKJC23BSyyfTw0QvBaDuX1S8DhQkc3wQ/YkD1LHUtXTohpye3SKP9UM\n",
       "rlhDGFpRGxZQnS1ZyW4t+0O4tbdUHBBh08YeihL+TIc4idAJiexKBbrf0Xz/CxcOfVZ6AdmKbzRk\n",
       "0TZnTEGeWYzRLoC62OgrY2Sygf5OTyl1dVNBPIqF2gDar+zXZgZs2Hp+x2nCOH0RsIDMeAIGX/4T\n",
       "jgdHiBvE4ADSpR0BQjJpncofd1tum6vijxLEHfsWvABTiRMPVvPn5+TKskdHm93KLoKdaPdeyZvD\n",
       "ycvs6OpPoAgZGqvv9ctPm8ElH3mepTylPGyoaTMlEBy4+dSWlz3+WKlSnauEnFquqQt+Kf1aXjqZ\n",
       "92IzYgFbEzEhghfjJsyM90ETHI9Pf6BDpi/mPp4vr3hZM1bZdABJfft1kJSqvsJwNBH4Ma50yUel\n",
       "ksnbpzjD6vXTail1bImk5/NotL/pGg0maLHK3D5iYdA/nEEXVYG/zBmbYn7TuFVrJjj7B1q9S5/u\n",
       "6cLHiB2nNmeQcAb/mu1y1l0qtxBgsTR6nammFsOKRuxOv02JSgxlkKou51S8rZWeaZkUIPxL++oX\n",
       "ZKPKZbs9CNMgz9OYbKEiXeM1tKXQ7fAwW9JNPNYhrVo0I1uraVHQs6G4d5Sog8ZrSS7nIdqgaaGh\n",
       "JfIFy8qOe8smtkDOE6z3J03we8DhJ5Pgv88NbiuZQBUOd8cHmG61BEKdSKyUSYAUaUS+qQ26wcWR\n",
       "vf8Bmks7SXazO18hhc2mifAr4y7KdHXzC5glcqwcFteatWpq3R1qye3Zqx0sr7BY82cXM+WmyKFp\n",
       "Nm2rfIbPc5NzoURoGT9VRLJkABzWzEIOR9La1m6lHC05QQSp35uknIPNOc7d1NSsgowv1DExZ9+2\n",
       "YzJgGwNFxaTZWBJzK6O8WvQZ8UNhzI9TdyR4s45g7pQ+SBYWQ9wi15XbcLiHyCZUJLvACFoWdW8m\n",
       "wKi/7oALz6wSk5/tNOS4t0icw3SeKDDdAMg/lZz1o7ndrOVXP9Rr/ovl/TSaqPa6aufvljFmgTsp\n",
       "b8SGngIchmoi+gd3pjgLroH2Ol8yqtVBhGbTlrX4BTL6FPfbaPMu0ZstEujj5uqjsKScKt2Qce43\n",
       "ICS00PYJPqPUGDN090kH9iTWZ+LZOIqJk0YZAGcsglLiWSpBGXskTdwl2dz6qbPKGNSyo5qZKifQ\n",
       "OziD+vZHZbvWJTpNCeyGpinPt6faR9bcFBjPuPByrj6/RmQmPDBzgfroDfoHFzFnTnBBCMAg/JlY\n",
       "wTGHpg4OoFMyDZK+GI/TkyoaqxatPcADd7P7QGCeKXcLSL9p+d6TlygBql3ke67M1/ykEHz6Pnna\n",
       "1qbp0krxWP1f4nN20oCtS/wn4QWWqRGTPFkyUqJwNkbl2xGVbdeiZPrGzlNeTGvgg/Lkfv1ZpoYz\n",
       "BWuRCdL2CJDw2Z9CJfT7ji0a02gXr3dU3Xk7wjzyEGCo2Ua3sMbupKpbnUQeAfkmq22/SooAfDdC\n",
       "eCtFIp9YQKAEjBsRMtLMQSXMyzMXjXD5HjRA13oMtJbc13Ivw+e8teoFIFz/ramJcwsvUJ1soPca\n",
       "FoqZ32YSoxESyMBbeh3b9Cu4BHMT7r2xGbrIscLcBw3IHfmlqE5P/72j7+oOaK+TKpC3FxM4y4wX\n",
       "06adWqrm7SKDdyYRTbbY86QGZaV0BxqzFVfSlLTmqcYvYCKfM6f8WIPXN8c3817mNm6WuP65RdwO\n",
       "NyiQWvgmGcWScKaXRnfgjxp7e5+uGfb+0rYN59DvVqcPDxUJ5tBOWGx8ykUx/M9SYT3szTekW0/d\n",
       "npVloDqCueb2CL53V0bgFaMx++ddKJRcDdq5qUiOMCLdYwxkFrVcgZV/uRY65o8k0maYmFesfwp2\n",
       "BMcxMP/zq7eWAPSftySwvQn3+3zqAsnc6eDlzo3d9UG8RAF6705OP2dQS9JakwW2dwa1XviBjUB9\n",
       "GFH+Wp8nnPgHoI2laJb4rDuWoT4hp/7Xs4PKfZoMOYg/hPh15U2Ot0aWGfy++hFK8imjYS8XHy3h\n",
       "mm68EaIS3tK/slpQXx0eYUjit0rOfymITUIM1fdto7kVQv2s3xpsHmnKI2Yb4VPT5r8P3WdsIflD\n",
       "ueCDnI0aHhj2CckO38i4IRnpbbXffa/se+RLHvLYxJByzsF9/MIUE6ynUiAaYp5fdSo5mncEEwmg\n",
       "urPRQIFrkmsy2wO+ZwQXzx6YVK7LsOfFcT2JL7af1mKSr6rIoA1qC6TRyrklDFto/A3Br9eJUrQa\n",
       "qMIB6msKTcHhOOnNDq//ylieMeJZ4JxSTRgTuc5fwKePsFPCgD8VndKDYjthoJ1YHlC0wBgSusEn\n",
       "spBbzslXVaanZ3VBlV7eCrqozqo1GZLhU0VmmG6lPfd4iKXIuDLWLB2NtgEIUpcobLZR4kNKhygq\n",
       "nkliBVlRELg039e4/X3WDywY6rMNz+teXijGRitNrz1yyiea+lECHuYVAVk27R4Vl/vR2Sx3qBfc\n",
       "HGObfQQFG+J+FsGxDp4o2DRlXG8BXQ2+nVOH08awD0PJ9QxxLQTBohBSOEFXGbFOOXRT9Y0Oa29Q\n",
       "6g2/Q6LxQfL5Z1JuxwkrX5lPxMK6wl1jUgierxcxIAAAAcxBnkJ4gt8AjHkPhjUjs+HcMiRjql2a\n",
       "tFcPI8V4AF1cAlE4YMp3333QHqTU6sVo10Iq7NX0EUJzObdevzJYt+9PDeSq1lKCGzNnr+N1g5N9\n",
       "ndip2xhzN1qLQMBjs43rTGlwoq6GLvpd4+34prVQMZYGS5ouKhaY504mLRF3jJXT47DRsjsdSxzT\n",
       "TNcSTrYPadnxlD1YQv31ygqc4gxAWWWGOzj0iRJjFOPTsIObQG9qPIXXPykNYox69Huz+ZUdjCEH\n",
       "0OoFGR1SriUFCf9nheWF45JsyjkbBRpbVR0Aglfd+93N6HDMMMwbnsgKEVfLvAchisEzppTRntcl\n",
       "gnify7mK6eXdTSq5zmLLarr2Y4qyLthb5Yc94lT7FwNHwXyCsWcjPPu59fm/ol9bYsbh7qZW9aQa\n",
       "8VZQZxhYNMpUguiEm04wGryviFfCzLlSH0KTJQEGfeBArqG3Qb3pkmS3IAljQ7P+xOuVKZRZq+Nc\n",
       "fK0dAcqO6SZfBP35CvApL3Ht0MTMM+FUYydYs/6DlZOtNurzGv7EiBi6pyvH9Q6LyjhWcWsO4nlE\n",
       "3QdP82TjNt9+dsNLsX0MQ/yt2OEfsOtu2Zozk0dcOEgXvg5Q3aOBAAABSgGeYXRBXwAPXYg5JpRo\n",
       "o4IANq387rAwGQDaIFB++fQ/xKfJNuCCmugrsmfcC6CbgoFLdZw34XP77G/K8wsMHUIRXfwwkvoZ\n",
       "rcuklKvSds5clJcnhQksxqhGfMSVNmiwkk1/XzbOTwCoMzREjAvtPyJKu2AL/5opgp+vso/wNUk6\n",
       "F0JeRTV72AZJ2/9pjj0dU6zR58Cnj5Bl72kBupEDR007VpGzmFTisFnFYuVzE6QSqRaphqUc/tVK\n",
       "RUxe0TobKeoRN39XBHbCD8fcZ4sCzgmtq8CFCAF2KT5j9Zz3G6zV1iyLD5QayAWtTU+oJ6yr3SqM\n",
       "fI9rHPDi6MwRftn7hZLJhlCOUbmRFGJT5dinZu8TNbZeylofh8QAyXW7Wgtk5Hsp6VfK/YcPZLHd\n",
       "0M3+uqdOUGwXSIAAQamiukUbFHrK7tRVD2G30IoDBgAAAPwBnmNqQV8Ar/owBh4GW0xoPp1r3GD8\n",
       "nEuJhSVhABtWktNZDw4I52Vn45+Tect9F5g1NYPpaZrEJZ+aUy0JbKQtzT7Y2rC6HCab/5k3CWNi\n",
       "wyk+YClPk1lKPSjjGHyb85vgau2Q2fRL7BIoPOUlvvx0xhBPZD6eqi79mVFgMPvffUpvgRUW2QHB\n",
       "YwCHUDcU7cMZdKAw6tOMgG79WDnCFWcSifOXjRlZiGvZ4FK6MZadj15jb6BAZlOe0RMihEQYOT0Z\n",
       "Xrq+nm/4grfjNzLt5/FEQHF60doZsIf3Bn8b9S8/KUEnhBOIIa8sEgUDR0dSq6Yx4D3fYM5JXsj8\n",
       "z7kAAANrbW9vdgAAAGxtdmhkAAAAAAAAAAAAAAAAAAAD6AAAHUwAAQAAAQAAAAAAAAAAAAAAAAEA\n",
       "AAAAAAAAAAAAAAAAAAABAAAAAAAAAAAAAAAAAABAAAAAAAAAAAAAAAAAAAAAAAAAAAAAAAAAAAAA\n",
       "AAAAAgAAApV0cmFrAAAAXHRraGQAAAADAAAAAAAAAAAAAAABAAAAAAAAHUwAAAAAAAAAAAAAAAAA\n",
       "AAAAAAEAAAAAAAAAAAAAAAAAAAABAAAAAAAAAAAAAAAAAABAAAAAANgAAAGwAAAAAAAkZWR0cwAA\n",
       "ABxlbHN0AAAAAAAAAAEAAB1MAADAAAABAAAAAAINbWRpYQAAACBtZGhkAAAAAAAAAAAAAAAAAABA\n",
       "AAAB4ABVxAAAAAAALWhkbHIAAAAAAAAAAHZpZGUAAAAAAAAAAAAAAABWaWRlb0hhbmRsZXIAAAAB\n",
       "uG1pbmYAAAAUdm1oZAAAAAEAAAAAAAAAAAAAACRkaW5mAAAAHGRyZWYAAAAAAAAAAQAAAAx1cmwg\n",
       "AAAAAQAAAXhzdGJsAAAAtHN0c2QAAAAAAAAAAQAAAKRhdmMxAAAAAAAAAAEAAAAAAAAAAAAAAAAA\n",
       "AAAAANgBsABIAAAASAAAAAAAAAABAAAAAAAAAAAAAAAAAAAAAAAAAAAAAAAAAAAAAAAAAAAAGP//\n",
       "AAAAMmF2Y0MBZAAM/+EAGWdkAAys2UODfl4QAAADADAAAAMAQPFCmWABAAZo6+PLIsAAAAAcdXVp\n",
       "ZGtoQPJfJE/FujmlG88DI/MAAAAAAAAAGHN0dHMAAAAAAAAAAQAAAAUAAGAAAAAAFHN0c3MAAAAA\n",
       "AAAAAQAAAAEAAAA4Y3R0cwAAAAAAAAAFAAAAAQAAwAAAAAABAAHgAAAAAAEAAMAAAAAAAQAAAAAA\n",
       "AAABAABgAAAAABxzdHNjAAAAAAAAAAEAAAABAAAABQAAAAEAAAAoc3RzegAAAAAAAAAAAAAABQAA\n",
       "CtAAAAnYAAAB0AAAAU4AAAEAAAAAFHN0Y28AAAAAAAAAAQAAACwAAABidWR0YQAAAFptZXRhAAAA\n",
       "AAAAACFoZGxyAAAAAAAAAABtZGlyYXBwbAAAAAAAAAAAAAAAAC1pbHN0AAAAJal0b28AAAAdZGF0\n",
       "YQAAAAEAAAAATGF2ZjU3LjgzLjEwMA==\n",
       "\">\n",
       "  Your browser does not support the video tag.\n",
       "</video>"
      ],
      "text/plain": [
       "<matplotlib.animation.FuncAnimation at 0x179b837ba90>"
      ]
     },
     "execution_count": 10,
     "metadata": {},
     "output_type": "execute_result"
    }
   ],
   "source": [
    "rc('animation', html='html5')\n",
    "anim"
   ]
  },
  {
   "cell_type": "code",
   "execution_count": 11,
   "metadata": {
    "collapsed": true
   },
   "outputs": [],
   "source": [
    "anim.save('swine-escape.mp4')"
   ]
  }
 ],
 "metadata": {
  "anaconda-cloud": {},
  "kernelspec": {
   "display_name": "Python [default]",
   "language": "python",
   "name": "python3"
  },
  "language_info": {
   "codemirror_mode": {
    "name": "ipython",
    "version": 3
   },
   "file_extension": ".py",
   "mimetype": "text/x-python",
   "name": "python",
   "nbconvert_exporter": "python",
   "pygments_lexer": "ipython3",
   "version": "3.5.3"
  }
 },
 "nbformat": 4,
 "nbformat_minor": 2
}
