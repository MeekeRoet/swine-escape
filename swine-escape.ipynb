{
 "cells": [
  {
   "cell_type": "code",
   "execution_count": 1,
   "metadata": {
    "collapsed": true
   },
   "outputs": [],
   "source": [
    "%matplotlib inline"
   ]
  },
  {
   "cell_type": "code",
   "execution_count": 2,
   "metadata": {
    "collapsed": true
   },
   "outputs": [],
   "source": [
    "import numpy as np\n",
    "import pandas as pd\n",
    "import seaborn as sns\n",
    "import matplotlib.pyplot as plt\n",
    "from matplotlib.animation import FuncAnimation\n",
    "from matplotlib import rc\n",
    "plt.style.use('ggplot')"
   ]
  },
  {
   "cell_type": "markdown",
   "metadata": {},
   "source": [
    "# Coding challenge instructions\n",
    "Consider the following board game: A game board has 12 spaces. The swine senses the Christmas spirit and manages to run away from home couple of weeks beforehand. Fortunately for it, the butcher is a bit of a drunkard and easily distracted. The swine starts on space 7, and a butcher on space 1. On each game turn a 6-sided die is rolled. On a result of 1 to 3, the swine moves that many spaces forward. On a result of 5 or 6, the butcher moves that many spaces forward. On result 4, both advance one space forward. The swine wins if it reaches the river at space 12 (the final roll does not have to be exact, moving past space 12 is OK). The butcher wins if he catches up with the swine (or moves past it).\n",
    "\n",
    "What are the probabilities of winning for the swine and the butcher?\n",
    "\n",
    "Your assignment is to create a mathematical or statistical model to find these probabilities, and implement the solution as a computer program in whatever language you like. You will present it during the interview and we will discuss it with you. \n",
    "\n",
    "Consider the following questions as well: \n",
    "- Can you make your model easily extendable for different initial conditions (board size and initial positions)?\n",
    "- Pros and cons of the approach?\n",
    "- Can you say something about how long the game takes (also under different initial conditions)?"
   ]
  },
  {
   "cell_type": "code",
   "execution_count": 3,
   "metadata": {
    "collapsed": true
   },
   "outputs": [],
   "source": [
    "# Set initial conditions.\n",
    "params = {\n",
    "    'board_size': 20,\n",
    "    'swine_start': 7,\n",
    "    'butcher_start': 1\n",
    "}\n",
    "\n",
    "# Set moves for the swine.\n",
    "swine_moveset = {\n",
    "    1: 1,\n",
    "    2: 2,\n",
    "    3: 3,\n",
    "    4: 1,\n",
    "    5: 0,\n",
    "    6: 0\n",
    "}\n",
    "\n",
    "# Set moves for the butcher.\n",
    "butcher_moveset = {\n",
    "    1: 0,\n",
    "    2: 0,\n",
    "    3: 0,\n",
    "    4: 1,\n",
    "    5: 5,\n",
    "    6: 6\n",
    "}"
   ]
  },
  {
   "cell_type": "code",
   "execution_count": 13,
   "metadata": {
    "collapsed": true
   },
   "outputs": [],
   "source": [
    "# Specify number of simulations.\n",
    "n_sims = 10000\n",
    "\n",
    "# Create dataframe for simulation results.\n",
    "sim_results = pd.DataFrame(np.zeros((n_sims, 2)), columns = ['winner', 'turns'], dtype = int) "
   ]
  },
  {
   "cell_type": "code",
   "execution_count": 14,
   "metadata": {
    "collapsed": true
   },
   "outputs": [],
   "source": [
    "def play_game(param_dict, swine_moveset, butcher_moveset, return_moves = False):\n",
    "    ''' Conduct one run of the butcher & swine game with parameters given in *param_dict*, a dictionary of:\n",
    "    - board_size (location of the river)\n",
    "    - swine_start (starting position of the swine)\n",
    "    - butcher_start (starting position of the butcher)\n",
    "    \n",
    "    and dictionaries *swine_moveset* and *butcher_moveset* containing the relation between dice outcome and agents' moves.\n",
    "    \n",
    "    Return the winner of the game, number of turns played, and if desired the moves made by both agents.\n",
    "    \n",
    "    '''\n",
    "    \n",
    "    # Get initial positions.\n",
    "    swine_pos = param_dict['swine_start']\n",
    "    butcher_pos = param_dict['butcher_start']\n",
    "    river_pos = param_dict['board_size']\n",
    "    \n",
    "    # Check if initial positions are valid.\n",
    "    if butcher_pos >= swine_pos:\n",
    "        raise ValueError('Error in starting positions: The swine has to start ahead of the butcher.')\n",
    "    elif swine_pos >= river_pos:\n",
    "        raise ValueError('Error in starting positions: The river has to lie ahead of the swine.')\n",
    "    \n",
    "    # Initiate dictionary to save the moves throughout the game.\n",
    "    if return_moves == True:\n",
    "        moves = {'swine': [swine_pos], 'butcher': [butcher_pos], 'dice_throws': [0]}\n",
    "    \n",
    "    j = 1 # Start turn counter.\n",
    "    \n",
    "    # Keep playing as long as the swine is ahead of the butcher and hasn't reached the river.\n",
    "    while swine_pos > butcher_pos and swine_pos < river_pos:\n",
    "              \n",
    "        dice_throw = np.random.randint(1, 7) # Simulate the dice throw by selecting a random integer from 1 to 6.\n",
    "        swine_pos += swine_moveset[dice_throw] # Update the swine's position.\n",
    "        butcher_pos += butcher_moveset[dice_throw] # Update the butcher's position.\n",
    "        \n",
    "        if return_moves == True:\n",
    "            moves['swine'].append(swine_pos)\n",
    "            moves['butcher'].append(butcher_pos)\n",
    "            moves['dice_throws'].append(dice_throw)\n",
    "        \n",
    "        j += 1\n",
    "    \n",
    "    # Save the winner of the game.\n",
    "    if swine_pos <= butcher_pos:\n",
    "        winner = 'butcher'       \n",
    "    else:\n",
    "        winner = 'swine'\n",
    "    \n",
    "    turns = j # Save the number of turns.\n",
    "    \n",
    "    if return_moves == True:\n",
    "        return winner, turns, moves\n",
    "    else:\n",
    "        return winner, turns"
   ]
  },
  {
   "cell_type": "code",
   "execution_count": 15,
   "metadata": {
    "collapsed": true,
    "scrolled": true
   },
   "outputs": [],
   "source": [
    "# Run the game *n_sims* times and save the results.\n",
    "for i in range(n_sims):\n",
    "    sim_results.loc[i, 'winner'], sim_results.loc[i, 'turns'] = play_game(params, swine_moveset, butcher_moveset)"
   ]
  },
  {
   "cell_type": "code",
   "execution_count": 16,
   "metadata": {},
   "outputs": [
    {
     "name": "stdout",
     "output_type": "stream",
     "text": [
      "Winning probabilities based on 10000 simulations: \n",
      "Swine 26.7% \n",
      "Butcher 73.4% \n",
      "\n",
      "Average length of the game: 6.33 turns.\n"
     ]
    },
    {
     "data": {
      "image/png": "[encoded data removed]",
      "text/plain": [
       "<matplotlib.figure.Figure at 0x218455a6128>"
      ]
     },
     "metadata": {},
     "output_type": "display_data"
    }
   ],
   "source": [
    "# Calculate the winning probabilities.\n",
    "winning_probs = (pd.value_counts(sim_results['winner']) / sum(pd.value_counts(sim_results['winner']))) * 100\n",
    "\n",
    "# Display outcomes.\n",
    "print('Winning probabilities based on {} simulations: \\nSwine {:.1f}% \\nButcher {:.1f}% \\n'.format(n_sims, winning_probs['swine'], winning_probs['butcher']))\n",
    "print('Average length of the game: {:.2f} turns.'.format(np.average(sim_results['turns'])))\n",
    "\n",
    "sns.countplot(data = sim_results, x = 'winner')\n",
    "plt.title('Comparison of winning odds')\n",
    "plt.show()"
   ]
  },
  {
   "cell_type": "markdown",
   "metadata": {},
   "source": [
    "Needs ffmpeg"
   ]
  },
  {
   "cell_type": "code",
   "execution_count": 8,
   "metadata": {
    "collapsed": true
   },
   "outputs": [],
   "source": [
    "winner, turns, moves = play_game(params, swine_moveset, butcher_moveset, return_moves = True)\n",
    "swine_moves = np.array(moves['swine'])\n",
    "butcher_moves = np.array(moves['butcher'])\n",
    "dice_outcomes = np.array(moves['dice_throws'])"
   ]
  },
  {
   "cell_type": "code",
   "execution_count": 9,
   "metadata": {
    "collapsed": true
   },
   "outputs": [
    {
     "data": {
      "image/png": "[encoded data removed]",
      "text/plain": [
       "<matplotlib.figure.Figure at 0x21845212208>"
      ]
     },
     "metadata": {},
     "output_type": "display_data"
    }
   ],
   "source": [
    "fig, ax = plt.subplots(figsize = (3, 6))\n",
    "ax.set(xlim = (-1, 1), ylim = (0, params['board_size'] + 3))\n",
    "\n",
    "grass = ax.plot([0, 0], [0, params['board_size'] + 3], color = 'limegreen', lw = 180, zorder = 1)\n",
    "road = ax.plot([0, 0], [0, params['board_size'] + 3], color = 'tan', lw = 30, zorder = 2)\n",
    "river = ax.plot([-1, 1], [params['board_size'], params['board_size']], color = 'dodgerblue', lw = 40, zorder = 3)\n",
    "swine = ax.scatter(0, swine_moves[0], color = 'magenta', s = 150, zorder = 4)\n",
    "butcher = ax.scatter(0, butcher_moves[0], color = 'darkslategrey', s = 80, zorder = 4)\n",
    "\n",
    "plt.tick_params(axis = 'x', bottom = 'off', labelbottom = 'off') # Remove x-axis information.\n",
    "\n",
    "def animate(i):\n",
    "    \n",
    "    # Plot course of the game graphically.\n",
    "    y_i_swine = swine_moves[i]\n",
    "    y_i_farmer = butcher_moves[i]\n",
    "    swine.set_offsets(np.c_[0, y_i_swine])\n",
    "    butcher.set_offsets(np.c_[0, y_i_farmer])\n",
    "    \n",
    "    # Display course of the game textually.\n",
    "    if i == 0:\n",
    "        ax.set_title('Start')\n",
    "    elif i == turns - 1:\n",
    "        ax.set_title('Round ' + str(i) + ': dice outcome is ' + str(dice_outcomes[i]) + '\\nThe ' + winner + ' won!')\n",
    "    else:\n",
    "        ax.set_title('Round ' + str(i) + ': dice outcome is ' + str(dice_outcomes[i]))\n",
    "    \n",
    "anim = FuncAnimation(\n",
    "    fig, animate, interval = 1500, frames = turns)"
   ]
  },
  {
   "cell_type": "code",
   "execution_count": 10,
   "metadata": {},
   "outputs": [
    {
     "data": {
      "text/html": [
       "<video width=\"216\" height=\"432\" controls autoplay loop>\n",
       "  <source type=\"video/mp4\" src=\"data:video/mp4;base64,AAAAHGZ0eXBNNFYgAAACAGlzb21pc28yYXZjMQAAAAhmcmVlAAAki21kYXQAAAKtBgX//6ncRem9\n",
       "5tlIt5Ys2CDZI+7veDI2NCAtIGNvcmUgMTUyIHIyODUxIGJhMjQ4OTkgLSBILjI2NC9NUEVHLTQg\n",
       "QVZDIGNvZGVjIC0gQ29weWxlZnQgMjAwMy0yMDE3IC0gaHR0cDovL3d3dy52aWRlb2xhbi5vcmcv\n",
       "eDI2NC5odG1sIC0gb3B0aW9uczogY2FiYWM9MSByZWY9MyBkZWJsb2NrPTE6MDowIGFuYWx5c2U9\n",
       "MHgzOjB4MTEzIG1lPWhleCBzdWJtZT03IHBzeT0xIHBzeV9yZD0xLjAwOjAuMDAgbWl4ZWRfcmVm\n",
       "PTEgbWVfcmFuZ2U9MTYgY2hyb21hX21lPTEgdHJlbGxpcz0xIDh4OGRjdD0xIGNxbT0wIGRlYWR6\n",
       "b25lPTIxLDExIGZhc3RfcHNraXA9MSBjaHJvbWFfcXBfb2Zmc2V0PS0yIHRocmVhZHM9NiBsb29r\n",
       "YWhlYWRfdGhyZWFkcz0xIHNsaWNlZF90aHJlYWRzPTAgbnI9MCBkZWNpbWF0ZT0xIGludGVybGFj\n",
       "ZWQ9MCBibHVyYXlfY29tcGF0PTAgY29uc3RyYWluZWRfaW50cmE9MCBiZnJhbWVzPTMgYl9weXJh\n",
       "bWlkPTIgYl9hZGFwdD0xIGJfYmlhcz0wIGRpcmVjdD0xIHdlaWdodGI9MSBvcGVuX2dvcD0wIHdl\n",
       "aWdodHA9MiBrZXlpbnQ9MjUwIGtleWludF9taW49MSBzY2VuZWN1dD00MCBpbnRyYV9yZWZyZXNo\n",
       "PTAgcmNfbG9va2FoZWFkPTQwIHJjPWNyZiBtYnRyZWU9MSBjcmY9MjMuMCBxY29tcD0wLjYwIHFw\n",
       "bWluPTAgcXBtYXg9NjkgcXBzdGVwPTQgaXBfcmF0aW89MS40MCBhcT0xOjEuMDAAgAAACI1liIQA\n",
       "F//+99S3zLLtU2+2C6j3op4mX0N1JQGblsTw4rfFSbpAu1ju+RXUT//nmArUAJYuYLQBzWgrD4Ed\n",
       "2j0hY4oHww2vkZFvhoHCLp/IUGnBrzk8zoZ7m43AZUGEUrBAtluulAxIMRSzWW0gPQr1zGE62p51\n",
       "bTJuKJH3l/0R/Ac5RQuKSUoiNnab8Vy3NQh2YnS9b9sDgYgKBKdw2+6P+2dzZrSXxhTz8qmIPgES\n",
       "oe/MV9UJ5CxFYf/pi0s5213ZoGBoNv0Xp+P4qOMJIWz8nx4NNBT2ZCG5/VS4bJRNuqSJdS2Pw066\n",
       "nC0ftWAKi1rTW5YZCBEWFgOPCdyqqmROUNXBGQF6K3HtxrNHRNVZ2MkY2RadtgYv+7mfcp9RlCbj\n",
       "wSB3Ic41I+ut1HnCUHgD15VPCIj6tXDqWUETASYoKAbonk5TywvLK6UZC+ftpu3QG9PpAAh+kRI3\n",
       "nut0n0oHCMtl7NERagKq0gAOle2GSA2fBua//cMZrscSJvdi/MY18HDKFSOcvz1E4xE5iaaTmsIP\n",
       "Xxk12W57l5eL1g1qT5b8tvR5C/12wQBXlK8wXWhiJjkJJ0pcDDHZ1KjtQG9BdG88e2P9SpXolx90\n",
       "p8ubRr83Nc7TqiT/GGNHPVoj91v9nOuTTHiUrfHD1nrnqT3Z+nCSu8VQw+zeuuleqh+d8vEAgmSh\n",
       "mVkwZSTJkYaRn963PqFfUkWrySZT+mNsZIHIFv9xceqm/5Y+3YeTz2i6RMfr8WwKD7/pQsUOF3RE\n",
       "kWy1/ZvIxsNW8h1iTv6b1nLRYh5tYs9fFNx0BP45Q3eHz9Nvj6mMBfFot3PP//Rj9CnYzvPKy5ai\n",
       "7T1q/QbEKgftOkmFOXrv2ECMrxr6DVxY2nEb8tD7bVIEi2UsiaR2uoD91Q53UIUDBuGMt+Cq1ZGs\n",
       "rzqWHy3PcBeDhjqt5hcnG6w451wNftJqzom7YWvMNyC4Wzeg/GRLVIovva1pH8f3rjxxuErJ8F2C\n",
       "78I3z67p4BdU+omQHXDm+zAhkU9RULKqgu9CyGKpERCSSXfHXHJSM4aLpvTW7piFUdJcaf80kDB2\n",
       "o5GHf+xsd5vZHZzhWulM5Q/guT92uaF/eCqOyT7+AACJ8aIu/LCSwjECO9M3r5VYxIfG00NNqqaO\n",
       "Ly1OGfVgXGec8rMvWWvfx1+1NQjOnIQ2dKc022Vggb/cuvgHn64YFM/cA4St98MT8+8RNXBtM4ea\n",
       "cK9FczUUhLYdyQZxpHC+N7/wA21Wq/N6gq91CIRsrQZ/v2Di2nX3IMT5ajKuqMR9m/dDa/F1heQr\n",
       "ctnoZe+C8ehiPyNQGy/w/fvCcwGGpj7VtSUPWoGp3mSP6vSaRf/IZEVWex5dDr10o//6Z6uPghD9\n",
       "WuyD5WB188AVLPcjnlOgg+kzJSf14TZ04J/cwr62JVTkbw+3AC/7Agk3SStkasC9W4VC1FVFWtIt\n",
       "9XEcAZpwjRjbcIrR19P3vXJeTUd7f6jeiyD6oxyr9eJXqWdJDSIQkBOYRxYySITwVfQVIde1ElQO\n",
       "IRdiKoP7W1HIOEvcZfPXqUCd7sNIOMJcgChaZhmOY2qtddU0IOp/L+sxwKZ9pb6WfTJy7V7GwAWp\n",
       "9/yhqHnchjSJnFK1nSeVkuKfh6qDLYuRgIpjz9YeRCSAfgQjw+tGTMfn9h29IT0qL1AlW2vn5Iet\n",
       "IPRhBglRBf0+HYKVSTK1hKjEg4xREWvSs/JTWPMsf2Z0rXcpRI7KogD/e1eJ4NIBEFJzQRM0aPdq\n",
       "Mvbb3ZeyH0ZGlWuPLNK2YjtaTQLpyC0DWwvB6jVp6ypSc9pELyyFxS7m5Ncd+IDfAnXM+60hzjRL\n",
       "txhtil3Qcac/0CpVn2c6WCp81U0Pe+HdKkILpbJwlRnu5MDCAXMr60U0iXLeWLdk7T9jjFblEZDU\n",
       "vi6sWzhdOCW7SufXMU5bke4wzZiHjEuYS2g3cL7Fvf7miGJaQVypA/yB6GBRm1FChYy+rY01hE2t\n",
       "Irf4gl9oxoAJpILy5oxrATp5t54mr4z2RYfeRHButy/0YM4Qj3d3kjk1XLO/cIijjcxIj+Dd12T5\n",
       "z2UJAVeeYwfNFCccZhF6XTDInta9XUx3LxCUpT0WWvdmC2gCoC/6BnRhCeZtrkxYjhUEzzym+5k+\n",
       "l3EL4j39m0HDA0juuQPNQtpFpNdcrm4/hmhk3GRdbSSFLtn1Xu2iC3p/7HArdxWIBI4z7swTDDGA\n",
       "3phNVZ60Z1+RF6HKV/nvxnM+rxql+8zTezE0rBnQUaCcEV00WTP2wV/cpHaTQifQ5VdM0QkxHe19\n",
       "R7mo6y46w0FkCtVrqjK7hYPTJFzGTAtHrmVQvFkP9kYTuiJeb9NCMMujqUX+OJ3XfEHBlvkzQroN\n",
       "/UWdqa6RQidh++/bNj48Maiofl6w18CHAMwqprEh8NHaLNZW4bdeEcbRFZQwyzpf+jx4Qa2vaOUa\n",
       "4KleJE+9NmYaqbt0/s2YPw9WyfQC+kffQE8A+fAuD5wWzt94O/QsKqh3c29BdwQN4J1E8pwl68/F\n",
       "/e7BAAtDdXBFX+mMI8in09+zm4iukwGdR1VAPDtVVMRxDJZGh8ai26W9fIAgCsUH8utVxoOZvdRT\n",
       "+L0ChTqk38WjY/5REUC/23+NAoUIspuDHiDpN8utQfA0bbPC0MPpXLj4iUlQkA2PvHncaztYi3dx\n",
       "ZfC8iJUB3t9oUrSg8dH0Ysln/at/MmrCvijPx68/Dm/UTtKjTp9HocPmCHrQhWA2gCT5+qrUNuZH\n",
       "+Qezdjim4V7ObxL90a1V0WDQJ6/Yot/QoEvfUV3eZfHUGCvIQC8iAAt/AX/T5fnbvVz4iEpyxkgT\n",
       "6N5Re+TRdWvdFZithIQ+93TwZvol/JNluaupeZJHtQASzlI6BZWhj1yhauBuLgCyY31c1toR9DP9\n",
       "6OcdHmbCQ9WcBLZYAATycVQBUQAACBVBmiNsQX/+2qZYzVv/5DsFfgAIzFPPLO5tCXW3fhlfRNqh\n",
       "2BiYO72Sg6EqEm3OzvzGbSOT7lGTY7fXuN6jjTigbAPjuyfD+2ba5FspomiXe/EkAF9p9eoEPV3B\n",
       "3xQZhRhulJmJG0GwuApfdia18Se3oVG7jrFqnhzGKjqCqSz+xnsc5g1wFsxAxgoJzS6/4vopMddO\n",
       "Yekh/oPstxZg1qlMzetJd7iNJlA+neQLCcDdV/GhYVVCD/WZsqSABrA2nCo2oKPdCoieC2wjW/Kj\n",
       "5D1iOd4HVibBi+LqtPoiMAEoem0AsIJ9Lq4qPdUzMeScIxomsedMu+r515WM0or6ZaMe+U55TohT\n",
       "FHRTpL9id9ztGfF1GPKcHwF5u+vD+Bkgnjq67j2iA43q2vYXe6BLBjwC3IoiGMqGdayySb6M8lUq\n",
       "A2V08Fb0qdlPDOJ8dpWC9fnrukiLdF8BhpSNe3kxBNH6cLYUcWT6+Ih365G8Rhet8B4LvnAnp6d7\n",
       "K0RaQGqEVr19dfu4aBFj+Am+ZNggTcLOO0ZsSd1bscuiQToxbmhx5mf9y8xzY+c0pW1e8b5l/HzF\n",
       "2mgnd5O5ZCzRo32aQ1bNFafBDld0eqSr/a7ekmrdLxwXJUu1rcg2OgYAaV8NCE28qoETiz2TcFER\n",
       "M9xNy7ruslmNrCUi4YgkkfTeNR8nCfXKXvo6C+ruwPz8I332sssERwExfcx+c2is/EMdtX18LysF\n",
       "d9pKWDBF2qZS4dKhj9x1qPxDCODvEhq/vzSs1gQc9y7ES0pauBGejhjGzSl11uKauNBq9As52j64\n",
       "1+FTkJ2+cdm0VoKe4ZcXF00LyZDe/h4YlkKxfGFSpW/9RL6rfDyuvn/xm3MQNKDqRMCWmQmj2Jqu\n",
       "bO8UlU/s+YtMQUbdHSZYokJJTm65HK0e6rFJxoFJI/T/jlXDaI/xrGijec260ECwS9JcHZGl6SwI\n",
       "bXSFTJEYIpBqcN4NdQvgwUL6/OeOtQYI72aGIVSkROVUcjMGbzu+MSt+/UuIin7A3THsSkF8XtMS\n",
       "YJNPNRZGrqv1XJt7pT+dCoJi3wFvBXwY527c7z5998z6IAznO1TA9YZfLnGiR/2TxXkkNa25BBRo\n",
       "SbUB54Me0H4Ia+JYcakc4WEh+90BJ5ux3VVDO4oF4NRMIQxQg9gjR2pH1aDl44Ksk/EYKuyWUHt/\n",
       "ylAxDKXQbtT4Fgj+Zaw+NI/ucbe75793edULkBCQpbdpmx7jZJZrzpkWcyXsNvriL/PbikrnWpMM\n",
       "LcDatGoWIrtPxqz45RBYciqOeHoT5wijagmqPrO8jXb6v8QSyopunC7FoX0LQEirOKUGyepyKYFO\n",
       "zMbWo75oh10DsYv0yFSJJtbrWzEUgmsf9CCMWluEiqS6siSRO4K3j07jCV65SwAS7ztBBP9gODFR\n",
       "PgKGulqU6d6NUV1i7OOcyoB5yLzMaYVaZCsJ8rEeEZj8SGr+iZmwvDAGjBjD/H7VUwfOVy5ytAX9\n",
       "wTVyOvfMZLPFYPxm7W4z0W7zzN5CNG/JB/43wNNvAn7FHhyD627btP3m7zdJI4Q0lFeHePYLbxyy\n",
       "2bEOfBXl6rKy2IC2lFA7kKnR+nazmrbzOG62r2eK6R2cvg1lEmusFCOiV6i/QHgCuGNlRUZEj23h\n",
       "FtJLenb7sIsxYlDmglPZ1BVSfongqoW8CgWOKEEVGT9E5hFFUclH7as79o30YEJ4IRx3LsNfOUBv\n",
       "wf5KFKu8KAtKmsh9meP22xLDsqct8a6IKJN4EzmbywIEtELRNHVKM+A8BSQ+JUcwEDEOzdDPnE0G\n",
       "ezfEnobsLj6RMXBnzHQJKXS83nS7705/Yq5GTL0nAwHI0rj7W+bcfJoUMvMjBs3nsY3j5YueReY8\n",
       "vuemraGzGYHBkSMRggJO02+LQRITGgwgmaZqddjkUUDj3fOIP41/Wo9EUOLP2XKg4L9qD0SwBQH4\n",
       "nEsgOHt2p5YGI5Y1jyglpljDjl14MFqIrE9tCVOTBWpms6AmC9Tq1mf10GhUHeUHDu05WFyp9TY/\n",
       "NO3AnDn8adO9tguH4WeD4qtbGoBhztjd2adXBKP+3fkRLghNJrdiozCjtZouJIJfYOx7x9xlwV2s\n",
       "zhcvFS4f63BJG5qKsopxNtp0TDFyFVGnOY3Xuv9FrpJriVFMQ4NSvzQzuyeYM1CCeFs8+HMB1jUp\n",
       "tWF9x1xnWYlaQlgir32GzCkVCv1h67BDmMzyZ62FVAX3u2qZYxG+Fav5B54xEQe49zGD/VTYGIKp\n",
       "vQcgzuh0bg91bmRfDS/OEBGA5YCFb8I2jTgQ5wBwCY9gjW0RELAebbmjgNrvkUx/xcaxPoI4WtQO\n",
       "5/kbgr29tDYDI4y4CakbkNMbMSbrTcdhRwjrCEt0jOyhA7nkcQzRBr+riy3WCwPBozwlV3bDmquC\n",
       "bpgASY82lgqmD0Q+mQT2rgYmG0Lw0uurx+YQJLosbotB/j4SRfGbJc8eb8tFYQp5subTmL+yZKVv\n",
       "61Qd05IKOxE86C85h0qnje0MAbQsvM4Ip1PEv4IrjTbDV4xzAnkUYR2HMw4IxKSs816a1SMmLuyZ\n",
       "5m2CBuXhzJbjNlav0RQnSOjpQbBes7TvdoZEB6MrcUduAQowMrRbW2Qew4z+VlulOW1eg8ltie8D\n",
       "C72Em0+l+PyIbT3UoUZzW19BEjGMRisFD3D8m9/uudlrcn6kQZAn3SKFPYlg+A6ieSW6KsiTHn+V\n",
       "UWR49oo7UtO3pQt1krIDYar2feiWTJlTRFv0e4M2rFTDdlWaAbvKgAAAAaFBnkF4gr8AD10rIgJK\n",
       "Z6CgARCoG86an/2WMMusE3giLBk1rVfuSPC3ARBeJJIW8Vau7CoypEYaPsI3ZmSjWRassq4OoQvk\n",
       "Zdtb4Eb3tjQL0EcTshyMnIa8cOEmtqaGiJ/e7r29iETPaIh2bYNFJVzIierqg5FzwIA8LY7NJzqO\n",
       "HNOnvPGxV6hY62eC8KD3yCnIx3UBuYSjHi1YpEzftTnkX/I2EytRH5Cbi+WUNiqq4645nIL4aAA0\n",
       "Nre4SAlhfA90q6Cucv4EE/B4TZ90UcCCIc44GNUyGYOgCjq0vjFHXrgXeGEbviLb0JtKASrmpiuO\n",
       "kI3wolG7Ifez+LiaTsDYKw0jym1Z+THY59XU1OLAFYHZDQFHDtxdmPtR1Nizd3P4+9hX8bsgn9Ft\n",
       "+SPV7RBYPLD4hc5z+kYrfZMyCFIOUme05pFfz6K8AriYApWi+l8biE1eGjSLaGUMViZtDFSs/96f\n",
       "sSfEl4Gh3YOqJEVyXYc8NNAgPG7yyxy/RZykSoDpBQZCqEAAFR6+ZGkRdlGr/XvmoxUpa8AhwtRI\n",
       "PU6plq8AAAC9AZ5iakFfAAruIdgARCptnvg7I3KUr3YPPUdlIvAafuXkgJNgvqDeVumyPxqlzQn6\n",
       "vC+jC+69UEIensRMY4U/SkLMKqv4gWoYM9QegOcWm6SYYp+Ms8HfJn2fdocoXiLOQJSUq/nBCICG\n",
       "qczQq7dH43c6c1SjKjMcZax6O4iExOccYDqzM6ZOL8O0Ydfs+2dp6Jm/aV6dbHI8CqqT6eLVBmA4\n",
       "GSJ+/ou1MYQe9kGZ+aiuKfo/A6Fm/we7Egb4AAABpUGaZEmoQWiZTAgv//7aplheQ6VIAWz5WQzs\n",
       "q+F2dt/2iV7vopMQIEHK2zN9SLNNar/qD2174wEkn5UsGhNLK0k9kzMFoQidQTihG+XMSijmgLD6\n",
       "uUutdfoZLRMs5IVJlVoDdVasyBIccd7r5JahQCWyBzjXpGTeGUl2cOqsxn7rBnzTlTLOLwPhJuGt\n",
       "Yf/HzjGMcamsWv8Vjqc7zHSzYiImcwdvEPhdYaoAh3rRpsRrbuM/LupaDzk+k+cos+isRd8uBUCn\n",
       "xRssxSsMIKaZSdu2Bbt1QbayuVXEw2zIleZsZ72j1G0ZllFh6F6DxhgxXhhfgqZMHF/jOg9yFBA/\n",
       "my7g8HwwT7q5xZK4WU4kxqbh4HopkjuQbdr0Kukw5Rcp6QQ1PQlna4535D46+F1fjfsMPiyNn9dY\n",
       "ijE92OW2ChVhIaQPVkIyHmWF9swua9p/ho2T1ryuQNFgGG1C3mXwSrdTkWLqTITR36VwQuwjBV2Y\n",
       "i6vzcs3KVRhecJfF3CpuL1jfPPhYHFM5BktI9Jvt3Ax8+zanS89Ww4VgDuxlfQyNdKk/N4EAAAGF\n",
       "QZqGSeEKUmUwURLBf/7aplhelW0gBNaopQbtW/57/WPMFSg/LZbBkjw8nd07K3fFdXS5yH18dyHo\n",
       "6kyS4qNZp3baCXu/+CbNFfTFji6zBNz1vLkAuAzavPfZCQJ5IyJ/KODx4oPXYAdfp6DzgT5Fe8F3\n",
       "r8zX1DqIgf9m+1MYz24A3vCkgK+QlPBHnmNIpXgb1WgDijE6wWxo38VuQXVE1O5t7HixAYq1y+N9\n",
       "uLx64vkZpHi6UZJxwoLw4AG/ovz6Wp0cgesogv+XMvKlAAMzxJrZNl6wmpR0dB/8uxoCvMbvECvS\n",
       "AdAwiAbCNCZXHO3aTUWFh87qw6PxuZ+YeK7hlTDNTTlyZW/xLa0SU1C9y4fU2tto/Uw+xCQkDJmJ\n",
       "o3+WdpFLYmUXvhbxVc63I384L651jr6UUkVso27iSWNCU8QpKs6t2MY4ryKxwF02m9fvB8JCr6XL\n",
       "sUjJYU4TW3h13wEnmVza0BkQjFK9Wdhukk0ILNQ/T4IqmkyAfAtow/pHuGuejfEAAACrAZ6lakFf\n",
       "AArvi640xXaBIgARAdVID4Y0puNhgqNspDeju8c5ZW4C4RrJnaiWn6Hp20qJIVju8GGA+NzILCeZ\n",
       "eBQO17iRqVTwUO9V6/Sg0f1/AJvdO9eacsgAO5Xj5Pm3CqIZLPwoaH049PW/dYfXbgfJ/74cVq18\n",
       "GOBfFtihmFTnSHVrt3tNIIlH0Y9pj6zquiPwdDWg4+aOLabH2Loq7J+LCk/vHk1VZ33RAAABP0Ga\n",
       "qEnhDomUwUTBX/7WpVBeNLv4AQik+zJ8vycauiUq3SAU4EoDyJUWSvhKNK9TOdR/u/rHTlEEEZJs\n",
       "2Us/Vhmc4VwQ52P8awRRO/jAH0v7y9qIJzmRNf3BYobVj413tGP/XpXYvov378fNTi4JDSZ1n1hq\n",
       "abdqHwO+/ePXfW3VZUXx3QSkYZA4rzx+/7GXxvtk1mbQzD3WmA/835VOeHobUhWsK6w1nw03iyD1\n",
       "NT7REK6h5Eb6wmWnW7CPjRVojhTps6OdN++g6StQBT3XnaOwooHv2JyZnbJfskoJzn1+v5RN4nWE\n",
       "2PeWXpNMxrEaZ4S+EWBSJirtsdzwkp6jlmUuG8NlBM4qNIY4Y84RYlCsECjZjZJaCR8kILOVgdmd\n",
       "TOary24Y1VQLNcWr/u598bo1s9Aoyl0NZA3GLYt874EAAADKAZ7HakFfAAruIdgARCptn9m1vTya\n",
       "kzcvGbneXtGJD2nf15uDD7psvt118vGweCViX5ETNHiSXo41vocqF8ZJpDgPqqBqFDwOIEPT9o8r\n",
       "Xn8K3/r2R6hHGVY73yMjQ3cgQU0Db2foHdPms8KiucgeORfrNDe5cNeBi4zs6uBQjp0v+qZi3J3L\n",
       "N+VDi5HTKCCWz+G9Qh0ZJkOAUqqVLGNpZZWXdV+pSvoa0HHzRxnJ0GtwZZQan+mmuG7cNoGPLxSY\n",
       "GmRk6gqEmyt1QAAACMxBmslJ4Q8mUwIK//7WpkSD/5DsA0UAJrU20AAEbvn3TxE0gjBmIPnwzJb2\n",
       "eT1BSyA4jVM+LayKEtIFLXTa0YL65H+a5r3zeJQxNgYKDB/buJOHH5W/F8H2zYDCh3LsgopgubF/\n",
       "8KHcCtUAXq3zUZaVv3/oyA6UyoHV33qVSNJxmWKyASDOZfygkSGrQp2Dyj2BnGoKJS/deZei5Sc7\n",
       "wiYtysQXfgbwqz6JI3tceVfiYsGTaP/emVasTux6BNxSXwevJ12mHrm7hGDD4hcoN3JS/fTC0ofl\n",
       "kUN8vMSe5fN7N8FHpBL1g07SByEd3vEioBgMkEWKvtra/DyjpF4hempiE9zmwiGBtc0krZEQKS6p\n",
       "RCwuNfmTCb2OqeDjqcj+SivDnTeVi8LyDSU8tUN18Nmy1Kyx4hAjVoxJvmemYtKcqhIOQ3nfELbd\n",
       "zWI0mjcwX3/sG9LnLBexNJ4fshf0sgxuUAEc+yQcKy1AZ73MIh9oYzJPLnro9zTTRCInGZ6sDqi+\n",
       "bq94w+8AoZREW19bsX4TWKf/Bxg4qTMewpcC2McWC2M7whvDIW3sIfbaqGzXs90ECsPdS9Wc4EAy\n",
       "JNsr5BQSFRn5yx5uYcInXC+ONBvRWNvWHNqYD0p6SE8/wy1kutaX0phKHjW3oEsEbZybjLS+861Y\n",
       "NaWSx04D4A8w+ouRivWb0RPRRGPm7RL6LCxDSGzA7oKqwABx172FoB5ShDhnsFFHtsRjJ9bAWjFl\n",
       "G/jsqcnj6vHdFtRE0ytY7MrBybtlr+Kop30kSMNcr/GNqrDQLS7JIHwir4vRclbJTaNRe5z1mhxF\n",
       "S93ZJH5YYR2DlPVScqdc3qyrjzEW6akeYIpQ3XMYf5i1+ho/U/2O9YBsgA4q4T9XkZa9LlT2ii4p\n",
       "uaAresxTeaMmiBwkD10mWH2haYqKWmBahRogQNvg7f6KbwWE1dz/ynrU+blNLPYRBip46qGQ8632\n",
       "IkBo7h9hvAdzydbam+GERJRtzB46OJBmP839i+wbDaHE0Wpo08W4eqjwOK4YfGD9c7+uVI6PzfQB\n",
       "Po6ewc5X+guOcAPs6OpPoAgZVsZllFK9h1QS8aM87y9lPGyoaWpI+NWCs6eNK//tXeSpTtXCg9lW\n",
       "+X5tZftP3jrvbIkrvVeCHFCx+N/GTZkZ7n+1UR6TSrKPWV+q3exfXvCyZq2y6ACY+/brISlVfYTg\n",
       "ZoqIcmzuJooG2bbeK+otjkftqKIB7gzJz+bRaX2BpYOnUWOVuHzMs6CDeIIuqwN/mDM4JP2ncKrW\n",
       "THH2DrJClz/d04WPEDtObM8g4A3+fMYw/mPzbbvBYmj1O1NMLYcUjdidfpsSlBjMpv/nzql5Wys8\n",
       "0zIk5/kX99QuyUeUww4WSNMgz9NCQKEiXeM1tKXGRGj3RUCwt+LZLco0I1uraTHQs6G4d5Sog4Z/\n",
       "CS7nIdqgaaGhJfIFy6aOe8smtkDOEi93J03we8DhJ5PjR88NbiuZQBTO98cHmG61BEKciKWen2hZ\n",
       "WjkfIht1hMsje/4DNJZ2kvF5JR4p9PfjW4dXxl2U6OvmF3hLL/iWm0kBA+Yr3Mau09uzVjpcyPMe\n",
       "EYlcz5abIoWk2ba98hs9zk3OhMGgZP1VEsmQAHFDkr0L7CBRKSEdQlN0FPv2a/hXtoQHlR27qalZ\n",
       "BRh4qGJiz79sxjMr/fom2iBC2Wi0gWSW69BnxQ2HMj1W3JHizjmDulD5pdE0A4LxibS9uFxD5BIS\n",
       "gJGj0IP70G9To7fwBl5pyUnDZK7LOW+rLV3Y7GZoegRr/XrFK01qcnpYLQgFAZZ7qz2gVDUOyssV\n",
       "vsNTI0j6XUa6ew7aDIhH1DFAmsOpaxOY2zckpDF3HHmO+pF41zxGMxXlsR6SrV6uEhVJHVXEJWSJ\n",
       "9AMwhQaGFth8Own5X3qHS5HvKY/G3payMoG4qjljpneDpAHmPZLE4UzuzkKeVriqIDKXGymz1Mfw\n",
       "odfYQh4+KBbHzWgX1FViBLtqQDGCMkdun+DmcoXvsJb4fJqNHqbhVptKp2ZW915j8aX2cSsK8A6k\n",
       "NlGd1O/PMGLYigeQ/Oej3ZnbpTd2FBBRZadzv4xtQzMU1CdZKsxHUvaemXLQmcvdKEp8lSh8USt+\n",
       "fuylHrpqB0zlIzEre7eBYaEkmeL6XUbT7S9+ndkDbaICp3ennsMYA+SN2auYJBzisRQy9shmJMMc\n",
       "TsPURG9Pas0/4EvARLqLy2kutxHY/+FvICo6Sm/rXJBKFBpoz1MFaMlOi2gX1u7tekCTT9s/USeI\n",
       "rF2A7Q21U8wKZLR3yIBd8MgVJhmcDmQUDKY2QVBl7WCVQeZ3V79rqUeoVjG9AWI+kgWpXHw96Nmw\n",
       "NnQn0G01nbXgMQS1yu/Bztz0GKYeNjVDSwuJQhWAvRg8ro4prR9mjx36uOlz+W6pieV4a5xPw6Ns\n",
       "/hg9dT/2srK1oSr7B/537llB94X1AE6ZhRHV9OeKFlkAkzEv4+13w1iMjuDOI5HEqqDhX4p963cX\n",
       "ZLisuaZu5b1IzSuH+j6pnU1ZJaxxhOQKEWH1adwFcejrcsMSxMjnjfw7iPtxMUrMSjqcEFNBYDhB\n",
       "yzxaoD1G44NGhs68hPt8U8SJcUrLvb3uvbaEpwsrYBuZTcnbaRWEfbJl5i1mNpW3p+//jub2efNY\n",
       "LhJAdFKIsXbBH/H/yESJS9VQCQnEtHK8KvcXrMmR+iOsYyATyDUeg5GEvsJl3ZATcYnFVuzICvkJ\n",
       "f/kAOMzKfsFgtUIl+Mwij7m49XSFF7p/F/0iMP9DMou2rvyuQJBtxb16KM9LV35acE0Pupz31QAw\n",
       "grVdtqVbEwsrOF46Vyh25xx69LDzJ4H9DzXHoVNmiQzP4utf35b7etyxWyN4klf7Z/T6ZFFfZ+EY\n",
       "Ce+7iQejZlNHQwx39az2y6dmoShZiFU8OROc9YgZisFGqxxDUo7cmZPDWiF4aFcDXihiAn+EQLah\n",
       "T6ux41dRO8j83GzAMnjneGnbiemcQ7LNY06THC76OVRUVL67ph8/n4BvQAAAA59tb292AAAAbG12\n",
       "aGQAAAAAAAAAAAAAAAAAAAPoAAA6mAABAAABAAAAAAAAAAAAAAAAAQAAAAAAAAAAAAAAAAAAAAEA\n",
       "AAAAAAAAAAAAAAAAAEAAAAAAAAAAAAAAAAAAAAAAAAAAAAAAAAAAAAAAAAACAAACyXRyYWsAAABc\n",
       "dGtoZAAAAAMAAAAAAAAAAAAAAAEAAAAAAAA6mAAAAAAAAAAAAAAAAAAAAAAAAQAAAAAAAAAAAAAA\n",
       "AAAAAAEAAAAAAAAAAAAAAAAAAEAAAAAA2AAAAbAAAAAAACRlZHRzAAAAHGVsc3QAAAAAAAAAAQAA\n",
       "OpgAAMAAAAEAAAAAAkFtZGlhAAAAIG1kaGQAAAAAAAAAAAAAAAAAAEAAAAPAAFXEAAAAAAAtaGRs\n",
       "cgAAAAAAAAAAdmlkZQAAAAAAAAAAAAAAAFZpZGVvSGFuZGxlcgAAAAHsbWluZgAAABR2bWhkAAAA\n",
       "AQAAAAAAAAAAAAAAJGRpbmYAAAAcZHJlZgAAAAAAAAABAAAADHVybCAAAAABAAABrHN0YmwAAAC0\n",
       "c3RzZAAAAAAAAAABAAAApGF2YzEAAAAAAAAAAQAAAAAAAAAAAAAAAAAAAAAA2AGwAEgAAABIAAAA\n",
       "AAAAAAEAAAAAAAAAAAAAAAAAAAAAAAAAAAAAAAAAAAAAAAAAAAAY//8AAAAyYXZjQwFkAAz/4QAZ\n",
       "Z2QADKzZQ4N+XhAAAAMAMAAAAwBA8UKZYAEABmjr48siwAAAABx1dWlka2hA8l8kT8W6OaUbzwMj\n",
       "8wAAAAAAAAAYc3R0cwAAAAAAAAABAAAACgAAYAAAAAAUc3RzcwAAAAAAAAABAAAAAQAAAFhjdHRz\n",
       "AAAAAAAAAAkAAAABAADAAAAAAAEAAYAAAAAAAgAAYAAAAAABAADAAAAAAAEAASAAAAAAAQAAYAAA\n",
       "AAABAAEgAAAAAAEAAGAAAAAAAQAAwAAAAAAcc3RzYwAAAAAAAAABAAAAAQAAAAoAAAABAAAAPHN0\n",
       "c3oAAAAAAAAAAAAAAAoAAAtCAAAIGQAAAaUAAADBAAABqQAAAYkAAACvAAABQwAAAM4AAAjQAAAA\n",
       "FHN0Y28AAAAAAAAAAQAAACwAAABidWR0YQAAAFptZXRhAAAAAAAAACFoZGxyAAAAAAAAAABtZGly\n",
       "YXBwbAAAAAAAAAAAAAAAAC1pbHN0AAAAJal0b28AAAAdZGF0YQAAAAEAAAAATGF2ZjU3LjgzLjEw\n",
       "MA==\n",
       "\">\n",
       "  Your browser does not support the video tag.\n",
       "</video>"
      ],
      "text/plain": [
       "<matplotlib.animation.FuncAnimation at 0x2184567ed68>"
      ]
     },
     "execution_count": 10,
     "metadata": {},
     "output_type": "execute_result"
    }
   ],
   "source": [
    "rc('animation', html='html5')\n",
    "anim"
   ]
  },
  {
   "cell_type": "code",
   "execution_count": 12,
   "metadata": {},
   "outputs": [],
   "source": [
    "anim.save('coding_challenge.mp4')"
   ]
  }
 ],
 "metadata": {
  "anaconda-cloud": {},
  "kernelspec": {
   "display_name": "Python [default]",
   "language": "python",
   "name": "python3"
  },
  "language_info": {
   "codemirror_mode": {
    "name": "ipython",
    "version": 3
   },
   "file_extension": ".py",
   "mimetype": "text/x-python",
   "name": "python",
   "nbconvert_exporter": "python",
   "pygments_lexer": "ipython3",
   "version": "3.5.3"
  }
 },
 "nbformat": 4,
 "nbformat_minor": 2
}
