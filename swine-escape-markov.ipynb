{
 "cells": [
  {
   "cell_type": "markdown",
   "metadata": {},
   "source": [
    "# Game instructions\n",
    "Consider the following board game: A game board has 12 spaces. The swine senses the Christmas spirit and manages to run away from home couple of weeks beforehand. Fortunately for it, the butcher is a bit of a drunkard and easily distracted. The swine starts on space 7, and a butcher on space 1. On each game turn a 6-sided die is rolled. On a result of 1 to 3, the swine moves that many spaces forward. On a result of 5 or 6, the butcher moves that many spaces forward. On result 4, both advance one space forward. The swine wins if it reaches the river at space 12 (the final roll does not have to be exact, moving past space 12 is OK). The butcher wins if he catches up with the swine (or moves past it).\n",
    "\n",
    "What are the probabilities of winning for the swine and the butcher?\n",
    "\n",
    "Your assignment is to create a mathematical or statistical model to find these probabilities, and implement the solution as a computer program in whatever language you like. You will present it during the interview and we will discuss it with you. \n",
    "\n",
    "Consider the following questions as well: \n",
    "- Can you make your model easily extendable for different initial conditions (board size and initial positions)?\n",
    "- Pros and cons of the approach?\n",
    "- Can you say something about how long the game takes (also under different initial conditions)?"
   ]
  },
  {
   "cell_type": "code",
   "execution_count": 1,
   "metadata": {
    "collapsed": true
   },
   "outputs": [],
   "source": [
    "import numpy as np\n",
    "import pandas as pd\n",
    "import itertools\n",
    "\n",
    "pd.options.display.max_columns = 70"
   ]
  },
  {
   "cell_type": "markdown",
   "metadata": {},
   "source": [
    "# Model"
   ]
  },
  {
   "cell_type": "code",
   "execution_count": 27,
   "metadata": {
    "collapsed": true
   },
   "outputs": [],
   "source": [
    "##### Initiate game parameters #####\n",
    "\n",
    "board_size = 12\n",
    "swine_start = 7\n",
    "butcher_start = 1"
   ]
  },
  {
   "cell_type": "code",
   "execution_count": 28,
   "metadata": {},
   "outputs": [],
   "source": [
    "##### Create transition matrix #####\n",
    "\n",
    "states = list(itertools.product(range(butcher_start, board_size + 1), range(swine_start, board_size + 1))) # Get S1 x S2.\n",
    "states = list(itertools.compress(states, [i[0] <= i[1] for i in states])) # Filter out invalid states.\n",
    "tm = pd.DataFrame(np.zeros(shape = (len(states), len(states))), index=states, columns=states) # Initiate transition matrix.\n",
    "\n",
    "# Loop over states to fill in transition probabilities.\n",
    "for b, s in states:\n",
    "    \n",
    "    # If someone already won, set as absorbing state.\n",
    "    if s == board_size:\n",
    "        tm.loc[[(b, s)], [(b, board_size)]] += 1\n",
    "        continue\n",
    "    elif b == s:\n",
    "        tm.loc[[(b, s)], [(b, s)]] += 1\n",
    "        continue\n",
    "    \n",
    "    # Die outcome 1.\n",
    "    tm.loc[[(b, s)], [(b, s+1)]] += 1/6\n",
    "    \n",
    "    # Die outcome 2.\n",
    "    if s+2 > board_size:\n",
    "        tm.loc[[(b, s)], [(b, board_size)]] += 1/6\n",
    "    else:\n",
    "        tm.loc[[(b, s)], [(b, s+2)]] += 1/6\n",
    "    \n",
    "    # Die outcome 3.\n",
    "    if s+3 > board_size:\n",
    "        tm.loc[[(b, s)], [(b, board_size)]] += 1/6\n",
    "    else:\n",
    "        tm.loc[[(b, s)], [(b, s+3)]] += 1/6\n",
    "    \n",
    "    # Die outcome 4.\n",
    "    tm.loc[[(b, s)], [(b+1, s+1)]] += 1/6 \n",
    "\n",
    "     # Die outcome 5.\n",
    "    if b+5 > s:\n",
    "        tm.loc[[(b, s)], [(s, s)]] += 1/6\n",
    "    else:\n",
    "        tm.loc[[(b, s)], [(b+5, s)]] += 1/6\n",
    "\n",
    "    # Die outcome 6.\n",
    "    if b+6 > s:\n",
    "        tm.loc[[(b, s)], [(s, s)]] += 1/6\n",
    "    else:\n",
    "        tm.loc[[(b, s)], [(b+6, s)]] += 1/6"
   ]
  },
  {
   "cell_type": "code",
   "execution_count": 43,
   "metadata": {
    "collapsed": true
   },
   "outputs": [],
   "source": [
    "##### Calculate final transition matrix #####\n",
    "\n",
    "max_turns = (board_size - swine_start) + int((board_size - 2 - butcher_start)/5)\n",
    "tm_final = pd.DataFrame(np.matrix(tm)**(max_turns), index=states, columns=states)\n",
    "\n",
    "swine_win_prob = 0\n",
    "butcher_win_prob = 0\n",
    "\n",
    "for b, s in states:\n",
    "    if b == s:\n",
    "        butcher_win_prob += tm_final.get_value((butcher_start, swine_start), (b, s))\n",
    "    else:\n",
    "        swine_win_prob += tm_final.get_value((butcher_start, swine_start), (b, s))"
   ]
  },
  {
   "cell_type": "code",
   "execution_count": 44,
   "metadata": {},
   "outputs": [
    {
     "name": "stdout",
     "output_type": "stream",
     "text": [
      "If \n",
      "- the board size is 12, \n",
      "- the swine starts at position 7, \n",
      "- and the butcher starts at position 1, \n",
      "then the swine's chance of escaping is 51.2% and the catch rate is 48.8%.\n"
     ]
    }
   ],
   "source": [
    "print(\"If \\n- the board size is {}, \\n- the swine starts at position {}, \\n- and the butcher starts at position {}, \\nthen the swine's chance of escaping is {:.1f}% and the catch rate is {:.1f}%.\".format(\n",
    "    board_size, swine_start, butcher_start, swine_win_prob*100, butcher_win_prob*100))"
   ]
  },
  {
   "cell_type": "code",
   "execution_count": 52,
   "metadata": {},
   "outputs": [
    {
     "name": "stdout",
     "output_type": "stream",
     "text": [
      "1\n",
      "        (1, 7)    (1, 8)    (1, 9)   (1, 10)  (1, 11)  (1, 12)  (2, 7)  \\\n",
      "(1, 7)     0.0  0.166667  0.166667  0.166667      0.0      0.0     0.0   \n",
      "\n",
      "          (2, 8)  (2, 9)  (2, 10)  (2, 11)  (2, 12)  (3, 7)  (3, 8)  (3, 9)  \\\n",
      "(1, 7)  0.166667     0.0      0.0      0.0      0.0     0.0     0.0     0.0   \n",
      "\n",
      "        (3, 10)  (3, 11)  (3, 12)  (4, 7)  (4, 8)  (4, 9)  (4, 10)  (4, 11)  \\\n",
      "(1, 7)      0.0      0.0      0.0     0.0     0.0     0.0      0.0      0.0   \n",
      "\n",
      "        (4, 12)  (5, 7)  (5, 8)  (5, 9)  (5, 10)  (5, 11)  (5, 12)    (6, 7)  \\\n",
      "(1, 7)      0.0     0.0     0.0     0.0      0.0      0.0      0.0  0.166667   \n",
      "\n",
      "        (6, 8)  (6, 9)  (6, 10)  (6, 11)  (6, 12)    (7, 7)  (7, 8)  (7, 9)  \\\n",
      "(1, 7)     0.0     0.0      0.0      0.0      0.0  0.166667     0.0     0.0   \n",
      "\n",
      "        (7, 10)  (7, 11)  (7, 12)  (8, 8)  (8, 9)  (8, 10)  (8, 11)  (8, 12)  \\\n",
      "(1, 7)      0.0      0.0      0.0     0.0     0.0      0.0      0.0      0.0   \n",
      "\n",
      "        (9, 9)  (9, 10)  (9, 11)  (9, 12)  (10, 10)  (10, 11)  (10, 12)  \\\n",
      "(1, 7)     0.0      0.0      0.0      0.0       0.0       0.0       0.0   \n",
      "\n",
      "        (11, 11)  (11, 12)  (12, 12)  \n",
      "(1, 7)       0.0       0.0       0.0  \n",
      "[ 0.          0.16666667  0.          0.          0.          0.        ]\n",
      "[ 0.          0.16666667  0.          0.          0.          0.        ]\n",
      "2\n",
      "        (1, 7)  (1, 8)    (1, 9)   (1, 10)   (1, 11)   (1, 12)  (2, 7)  \\\n",
      "(1, 7)     0.0     0.0  0.027778  0.055556  0.083333  0.083333     0.0   \n",
      "\n",
      "        (2, 8)    (2, 9)   (2, 10)   (2, 11)  (2, 12)  (3, 7)  (3, 8)  \\\n",
      "(1, 7)     0.0  0.055556  0.055556  0.055556      0.0     0.0     0.0   \n",
      "\n",
      "          (3, 9)  (3, 10)  (3, 11)  (3, 12)  (4, 7)  (4, 8)  (4, 9)  (4, 10)  \\\n",
      "(1, 7)  0.027778      0.0      0.0      0.0     0.0     0.0     0.0      0.0   \n",
      "\n",
      "        (4, 11)  (4, 12)  (5, 7)  (5, 8)  (5, 9)  (5, 10)  (5, 11)  (5, 12)  \\\n",
      "(1, 7)      0.0      0.0     0.0     0.0     0.0      0.0      0.0      0.0   \n",
      "\n",
      "        (6, 7)    (6, 8)    (6, 9)   (6, 10)  (6, 11)  (6, 12)    (7, 7)  \\\n",
      "(1, 7)     0.0  0.055556  0.055556  0.055556      0.0      0.0  0.222222   \n",
      "\n",
      "          (7, 8)    (7, 9)   (7, 10)  (7, 11)  (7, 12)    (8, 8)  (8, 9)  \\\n",
      "(1, 7)  0.083333  0.027778  0.027778      0.0      0.0  0.027778     0.0   \n",
      "\n",
      "        (8, 10)  (8, 11)  (8, 12)  (9, 9)  (9, 10)  (9, 11)  (9, 12)  \\\n",
      "(1, 7)      0.0      0.0      0.0     0.0      0.0      0.0      0.0   \n",
      "\n",
      "        (10, 10)  (10, 11)  (10, 12)  (11, 11)  (11, 12)  (12, 12)  \n",
      "(1, 7)       0.0       0.0       0.0       0.0       0.0       0.0  \n",
      "[ 0.          0.16666667  0.33333333  0.          0.          0.        ]\n",
      "[ 0.          0.16666667  0.16666667  0.          0.          0.        ]\n",
      "3\n",
      "        (1, 7)  (1, 8)  (1, 9)  (1, 10)  (1, 11)   (1, 12)  (2, 7)  (2, 8)  \\\n",
      "(1, 7)     0.0     0.0     0.0      0.0      0.0  0.157022     0.0     0.0   \n",
      "\n",
      "        (2, 9)  (2, 10)  (2, 11)  (2, 12)  (3, 7)  (3, 8)  (3, 9)  (3, 10)  \\\n",
      "(1, 7)     0.0      0.0      0.0  0.09195     0.0     0.0     0.0      0.0   \n",
      "\n",
      "        (3, 11)   (3, 12)  (4, 7)  (4, 8)  (4, 9)  (4, 10)  (4, 11)   (4, 12)  \\\n",
      "(1, 7)      0.0  0.032922     0.0     0.0     0.0      0.0      0.0  0.006173   \n",
      "\n",
      "        (5, 7)  (5, 8)  (5, 9)  (5, 10)  (5, 11)  (5, 12)  (6, 7)  (6, 8)  \\\n",
      "(1, 7)     0.0     0.0     0.0      0.0      0.0   0.0009     0.0     0.0   \n",
      "\n",
      "        (6, 9)  (6, 10)  (6, 11)   (6, 12)    (7, 7)  (7, 8)  (7, 9)  (7, 10)  \\\n",
      "(1, 7)     0.0      0.0      0.0  0.066294  0.222222     0.0     0.0      0.0   \n",
      "\n",
      "        (7, 11)   (7, 12)    (8, 8)  (8, 9)  (8, 10)  (8, 11)   (8, 12)  \\\n",
      "(1, 7)      0.0  0.089999  0.074074     0.0      0.0      0.0  0.049061   \n",
      "\n",
      "          (9, 9)  (9, 10)  (9, 11)   (9, 12)  (10, 10)  (10, 11)  (10, 12)  \\\n",
      "(1, 7)  0.058642      0.0      0.0  0.014339  0.070473       0.0  0.002593   \n",
      "\n",
      "        (11, 11)  (11, 12)  (12, 12)  \n",
      "(1, 7)  0.063014  0.000322       0.0  \n",
      "[ 0.          0.16666667  0.16666667  1.          0.          0.        ]\n",
      "[ 0.          0.16666667  0.16666667  0.66666667  0.          0.        ]\n",
      "4\n",
      "        (1, 7)  (1, 8)  (1, 9)  (1, 10)  (1, 11)   (1, 12)  (2, 7)  (2, 8)  \\\n",
      "(1, 7)     0.0     0.0     0.0      0.0      0.0  0.157022     0.0     0.0   \n",
      "\n",
      "        (2, 9)  (2, 10)  (2, 11)  (2, 12)  (3, 7)  (3, 8)  (3, 9)  (3, 10)  \\\n",
      "(1, 7)     0.0      0.0      0.0  0.09195     0.0     0.0     0.0      0.0   \n",
      "\n",
      "        (3, 11)   (3, 12)  (4, 7)  (4, 8)  (4, 9)  (4, 10)  (4, 11)   (4, 12)  \\\n",
      "(1, 7)      0.0  0.032922     0.0     0.0     0.0      0.0      0.0  0.006173   \n",
      "\n",
      "        (5, 7)  (5, 8)  (5, 9)  (5, 10)  (5, 11)  (5, 12)  (6, 7)  (6, 8)  \\\n",
      "(1, 7)     0.0     0.0     0.0      0.0      0.0   0.0009     0.0     0.0   \n",
      "\n",
      "        (6, 9)  (6, 10)  (6, 11)   (6, 12)    (7, 7)  (7, 8)  (7, 9)  (7, 10)  \\\n",
      "(1, 7)     0.0      0.0      0.0  0.066294  0.222222     0.0     0.0      0.0   \n",
      "\n",
      "        (7, 11)   (7, 12)    (8, 8)  (8, 9)  (8, 10)  (8, 11)   (8, 12)  \\\n",
      "(1, 7)      0.0  0.089999  0.074074     0.0      0.0      0.0  0.049061   \n",
      "\n",
      "          (9, 9)  (9, 10)  (9, 11)   (9, 12)  (10, 10)  (10, 11)  (10, 12)  \\\n",
      "(1, 7)  0.058642      0.0      0.0  0.014339  0.070473       0.0  0.002593   \n",
      "\n",
      "        (11, 11)  (11, 12)  (12, 12)  \n",
      "(1, 7)  0.063014  0.000322       0.0  \n",
      "[ 0.          0.16666667  0.16666667  0.66666667  1.          0.        ]\n",
      "[ 0.          0.16666667  0.16666667  0.66666667  0.          0.        ]\n",
      "5\n",
      "        (1, 7)  (1, 8)  (1, 9)  (1, 10)  (1, 11)   (1, 12)  (2, 7)  (2, 8)  \\\n",
      "(1, 7)     0.0     0.0     0.0      0.0      0.0  0.157022     0.0     0.0   \n",
      "\n",
      "        (2, 9)  (2, 10)  (2, 11)  (2, 12)  (3, 7)  (3, 8)  (3, 9)  (3, 10)  \\\n",
      "(1, 7)     0.0      0.0      0.0  0.09195     0.0     0.0     0.0      0.0   \n",
      "\n",
      "        (3, 11)   (3, 12)  (4, 7)  (4, 8)  (4, 9)  (4, 10)  (4, 11)   (4, 12)  \\\n",
      "(1, 7)      0.0  0.032922     0.0     0.0     0.0      0.0      0.0  0.006173   \n",
      "\n",
      "        (5, 7)  (5, 8)  (5, 9)  (5, 10)  (5, 11)  (5, 12)  (6, 7)  (6, 8)  \\\n",
      "(1, 7)     0.0     0.0     0.0      0.0      0.0   0.0009     0.0     0.0   \n",
      "\n",
      "        (6, 9)  (6, 10)  (6, 11)   (6, 12)    (7, 7)  (7, 8)  (7, 9)  (7, 10)  \\\n",
      "(1, 7)     0.0      0.0      0.0  0.066294  0.222222     0.0     0.0      0.0   \n",
      "\n",
      "        (7, 11)   (7, 12)    (8, 8)  (8, 9)  (8, 10)  (8, 11)   (8, 12)  \\\n",
      "(1, 7)      0.0  0.089999  0.074074     0.0      0.0      0.0  0.049061   \n",
      "\n",
      "          (9, 9)  (9, 10)  (9, 11)   (9, 12)  (10, 10)  (10, 11)  (10, 12)  \\\n",
      "(1, 7)  0.058642      0.0      0.0  0.014339  0.070473       0.0  0.002593   \n",
      "\n",
      "        (11, 11)  (11, 12)  (12, 12)  \n",
      "(1, 7)  0.063014  0.000322       0.0  \n",
      "[ 0.          0.16666667  0.16666667  0.66666667  0.          1.        ]\n",
      "[ 0.          0.16666667  0.16666667  0.66666667  0.          0.        ]\n"
     ]
    }
   ],
   "source": [
    "##### Length of the game #####\n",
    "\n",
    "game_length = np.zeros(shape = (max_turns))\n",
    "tm_temp = tm.copy(deep = True)\n",
    "\n",
    "for t in range(1, max_turns):\n",
    "    tm_temp = pd.DataFrame(np.matrix(tm_temp)**t, index=states, columns=states)\n",
    "    \n",
    "    for b, s in states:\n",
    "        if b == s:\n",
    "            game_length[t] += tm_temp.get_value((butcher_start, swine_start), (b, s))\n",
    "        elif s == board_size:\n",
    "            game_length[t] += tm_temp.get_value((butcher_start, swine_start), (b, s))\n",
    "    \n",
    "    print(t5)\n",
    "    print(tm_temp.loc[[(1,7)], ])\n",
    "    print(game_length)        \n",
    "    game_length[t] -= sum(game_length[:t])\n",
    "    print(game_length)"
   ]
  },
  {
   "cell_type": "code",
   "execution_count": 46,
   "metadata": {},
   "outputs": [
    {
     "data": {
      "text/plain": [
       "array([ 0.        ,  0.16666667,  0.16666667,  0.83333333,  0.16666667,\n",
       "        0.83333333])"
      ]
     },
     "execution_count": 46,
     "metadata": {},
     "output_type": "execute_result"
    }
   ],
   "source": [
    "game_length"
   ]
  },
  {
   "cell_type": "code",
   "execution_count": 35,
   "metadata": {},
   "outputs": [],
   "source": [
    "game_length[t] -= game_length[t-1]"
   ]
  },
  {
   "cell_type": "code",
   "execution_count": 6,
   "metadata": {
    "collapsed": true
   },
   "outputs": [],
   "source": [
    "\n",
    "\n",
    "\n",
    "\n",
    "\n",
    "\n",
    "\n",
    "\n",
    "\n",
    "# tm_swine = np.zeros(shape = (board_size, board_size + 4))\n",
    "# np.fill_diagonal(tm_swine[swine_start-1:, swine_start-1:], 2/6)\n",
    "\n",
    "# for i in range(swine_start-1, board_size):\n",
    "#     tm_swine[i, i+1] = 2/6\n",
    "#     tm_swine[i, i+2:i+4] = 1/6\n",
    "    \n",
    "# tm_swine = tm_swine[:, :-4]\n",
    "\n",
    "# for i in range(swine_start-1, board_size):\n",
    "#     if 1 - sum(tm_swine[i, :]) > 0.000001:\n",
    "#         tm_swine[i, -1] += 1 - sum(tm_swine[i, :])\n",
    "#     tm_swine[-1, -1] = 1\n",
    "    \n",
    "\n",
    "# tm_butcher = np.zeros(shape = (board_size, board_size + 6))\n",
    "# np.fill_diagonal(tm_butcher[butcher_start-1:, butcher_start-1:], 3/6)\n",
    "\n",
    "# for i in range(butcher_start-1, board_size):\n",
    "#     tm_butcher[i, i+1] = 1/6\n",
    "#     tm_butcher[i, i+5:i+7] = 1/6\n",
    "    \n",
    "# tm_butcher = tm_butcher[:, :-6]\n",
    "\n",
    "# for i in range(butcher_start-1, board_size):\n",
    "#     if 1 - sum(tm_butcher[i, :]) > 0.000001:\n",
    "#         tm_butcher[i, -1] += 1 - sum(tm_butcher[i, :])\n",
    "#     tm_butcher[-1, -1] = 1"
   ]
  }
 ],
 "metadata": {
  "anaconda-cloud": {},
  "kernelspec": {
   "display_name": "Python [default]",
   "language": "python",
   "name": "python3"
  },
  "language_info": {
   "codemirror_mode": {
    "name": "ipython",
    "version": 3
   },
   "file_extension": ".py",
   "mimetype": "text/x-python",
   "name": "python",
   "nbconvert_exporter": "python",
   "pygments_lexer": "ipython3",
   "version": "3.5.3"
  }
 },
 "nbformat": 4,
 "nbformat_minor": 2
}
