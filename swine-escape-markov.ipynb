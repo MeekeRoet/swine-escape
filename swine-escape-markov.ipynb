{
 "cells": [
  {
   "cell_type": "markdown",
   "metadata": {},
   "source": [
    "# Game instructions\n",
    "Consider the following board game: A game board has 12 spaces. The swine senses the Christmas spirit and manages to run away from home couple of weeks beforehand. Fortunately for it, the butcher is a bit of a drunkard and easily distracted. The swine starts on space 7, and a butcher on space 1. On each game turn a 6-sided die is rolled. On a result of 1 to 3, the swine moves that many spaces forward. On a result of 5 or 6, the butcher moves that many spaces forward. On result 4, both advance one space forward. The swine wins if it reaches the river at space 12 (the final roll does not have to be exact, moving past space 12 is OK). The butcher wins if he catches up with the swine (or moves past it).\n",
    "\n",
    "What are the probabilities of winning for the swine and the butcher?\n",
    "\n",
    "Your assignment is to create a mathematical or statistical model to find these probabilities, and implement the solution as a computer program in whatever language you like. You will present it during the interview and we will discuss it with you. \n",
    "\n",
    "Consider the following questions as well: \n",
    "- Can you make your model easily extendable for different initial conditions (board size and initial positions)?\n",
    "- Pros and cons of the approach?\n",
    "- Can you say something about how long the game takes (also under different initial conditions)?"
   ]
  },
  {
   "cell_type": "code",
   "execution_count": 1,
   "metadata": {
    "collapsed": true
   },
   "outputs": [],
   "source": [
    "import numpy as np\n",
    "import pandas as pd\n",
    "import matplotlib.pyplot as plt\n",
    "import seaborn as sns\n",
    "import itertools\n",
    "\n",
    "pd.options.display.max_columns = 70\n",
    "plt.style.use('ggplot')"
   ]
  },
  {
   "cell_type": "markdown",
   "metadata": {},
   "source": [
    "# Model"
   ]
  },
  {
   "cell_type": "markdown",
   "metadata": {},
   "source": [
    "#### Initiate game parameters"
   ]
  },
  {
   "cell_type": "code",
   "execution_count": 2,
   "metadata": {},
   "outputs": [],
   "source": [
    "board_size = 12\n",
    "swine_start = 7\n",
    "butcher_start = 1\n",
    "\n",
    "if butcher_start >= swine_start:\n",
    "    raise ValueError('Error in starting positions: The swine has to start ahead of the butcher.')\n",
    "elif swine_start >= board_size:\n",
    "    raise ValueError('Error in starting positions: The river has to lie ahead of the swine.')"
   ]
  },
  {
   "cell_type": "markdown",
   "metadata": {},
   "source": [
    "#### Create transition matrix"
   ]
  },
  {
   "cell_type": "code",
   "execution_count": 3,
   "metadata": {
    "collapsed": true
   },
   "outputs": [],
   "source": [
    "states = list(itertools.product(range(butcher_start, board_size + 1), range(swine_start, board_size + 1))) # Get state space.\n",
    "states = list(itertools.compress(states, [i[0] <= i[1] for i in states])) # Filter out invalid states (butcher ahead of swine).\n",
    "tm = pd.DataFrame(np.zeros(shape = (len(states), len(states))), index=states, columns=states) # Initiate transition matrix.\n",
    "\n",
    "# Loop over states to fill in transition probabilities.\n",
    "for b, s in states:\n",
    "    \n",
    "    # If someone already won, set as absorbing state.\n",
    "    if s == board_size or b == s:\n",
    "        tm.loc[[(b, s)], [(b, s)]] += 1\n",
    "        continue\n",
    "    \n",
    "    # Die outcome 1.\n",
    "    tm.loc[[(b, s)], [(b, s+1)]] += 1/6\n",
    "    \n",
    "    # Die outcome 2.\n",
    "    if s+2 > board_size:\n",
    "        tm.loc[[(b, s)], [(b, board_size)]] += 1/6\n",
    "    else:\n",
    "        tm.loc[[(b, s)], [(b, s+2)]] += 1/6\n",
    "    \n",
    "    # Die outcome 3.\n",
    "    if s+3 > board_size:\n",
    "        tm.loc[[(b, s)], [(b, board_size)]] += 1/6\n",
    "    else:\n",
    "        tm.loc[[(b, s)], [(b, s+3)]] += 1/6\n",
    "    \n",
    "    # Die outcome 4.\n",
    "    tm.loc[[(b, s)], [(b+1, s+1)]] += 1/6 \n",
    "\n",
    "     # Die outcome 5.\n",
    "    if b+5 > s:\n",
    "        tm.loc[[(b, s)], [(s, s)]] += 1/6\n",
    "    else:\n",
    "        tm.loc[[(b, s)], [(b+5, s)]] += 1/6\n",
    "\n",
    "    # Die outcome 6.\n",
    "    if b+6 > s:\n",
    "        tm.loc[[(b, s)], [(s, s)]] += 1/6\n",
    "    else:\n",
    "        tm.loc[[(b, s)], [(b+6, s)]] += 1/6"
   ]
  },
  {
   "cell_type": "markdown",
   "metadata": {},
   "source": [
    "#### Calculate winning chances"
   ]
  },
  {
   "cell_type": "code",
   "execution_count": 4,
   "metadata": {
    "collapsed": true
   },
   "outputs": [],
   "source": [
    "max_turns = (board_size - swine_start) + int((board_size - 2 - butcher_start)/5) # Calculate the maximum number of turns.\n",
    "tm_final = pd.DataFrame(np.matrix(tm)**(max_turns), index = states, columns = states) # Get final transition matrix.\n",
    "\n",
    "swine_win_prob = 0\n",
    "butcher_win_prob = 0\n",
    "\n",
    "for b, s in states:\n",
    "    if b == s:\n",
    "        butcher_win_prob += tm_final.get_value((butcher_start, swine_start), (b, s))\n",
    "    else:\n",
    "        swine_win_prob += tm_final.get_value((butcher_start, swine_start), (b, s))"
   ]
  },
  {
   "cell_type": "code",
   "execution_count": 5,
   "metadata": {
    "scrolled": true
   },
   "outputs": [
    {
     "name": "stdout",
     "output_type": "stream",
     "text": [
      "If \n",
      "- the board size is 12, \n",
      "- the swine starts at position 7, \n",
      "- and the butcher starts at position 1, \n",
      "then the swine's chance of escaping is 51.2% and the catch rate is 48.8%.\n"
     ]
    }
   ],
   "source": [
    "print(\"If \\n- the board size is {}, \\n- the swine starts at position {}, \\n- and the butcher starts at position {}, \\nthen the swine's chance of escaping is {:.1f}% and the catch rate is {:.1f}%.\".format(\n",
    "    board_size, swine_start, butcher_start, swine_win_prob*100, butcher_win_prob*100))"
   ]
  },
  {
   "cell_type": "markdown",
   "metadata": {},
   "source": [
    "#### Game length"
   ]
  },
  {
   "cell_type": "code",
   "execution_count": 6,
   "metadata": {},
   "outputs": [
    {
     "name": "stdout",
     "output_type": "stream",
     "text": [
      "Average duration of the game: 2.998 turns.\n"
     ]
    }
   ],
   "source": [
    "game_length = pd.Series(np.zeros(shape = (max_turns)), index =  list(range(1, max_turns + 1)))\n",
    "\n",
    "for t in range(1, max_turns+1):\n",
    "    tm_temp = pd.DataFrame(np.matrix(tm)**t, index=states, columns=states) # Get transition matrix to turn t.\n",
    "    \n",
    "    # Add up probabilities of being in a final state.\n",
    "    for b, s in states:\n",
    "        if b == s:\n",
    "            game_length.loc[t] += tm_temp.get_value((butcher_start, swine_start), (b, s))\n",
    "        elif s == board_size:\n",
    "            game_length.loc[t] += tm_temp.get_value((butcher_start, swine_start), (b, s))\n",
    "    \n",
    "    game_length.loc[t] -= sum(game_length.loc[:t-1]) # Subtract probability of reaching a final state in previous turns.\n",
    "    \n",
    "print('Average duration of the game: {:.3f} turns.'.format(np.dot(game_length.index, game_length)))"
   ]
  },
  {
   "cell_type": "code",
   "execution_count": 7,
   "metadata": {},
   "outputs": [
    {
     "data": {
      "image/png": "[encoded data removed]",
      "text/plain": [
       "<matplotlib.figure.Figure at 0x1cd4e928320>"
      ]
     },
     "metadata": {},
     "output_type": "display_data"
    }
   ],
   "source": [
    "fig, ax = plt.subplots()\n",
    "dist = ax.bar(game_length.index, game_length)\n",
    "\n",
    "def autolabel(rects):\n",
    "    \"\"\"\n",
    "    Attach a text label above each bar displaying its height\n",
    "    \"\"\"\n",
    "    for rect in rects:\n",
    "        height = rect.get_height()\n",
    "        ax.text(rect.get_x() + rect.get_width()/2., 1.02*height,\n",
    "                '%.3f' % height,\n",
    "                ha='center', va='bottom')\n",
    "\n",
    "autolabel(dist)\n",
    "        \n",
    "plt.xlabel('Number of turns')\n",
    "plt.ylabel('Probability')\n",
    "plt.title('Distribution of game duration', y = 1.05)\n",
    "plt.show()"
   ]
  }
 ],
 "metadata": {
  "anaconda-cloud": {},
  "kernelspec": {
   "display_name": "Python [default]",
   "language": "python",
   "name": "python3"
  },
  "language_info": {
   "codemirror_mode": {
    "name": "ipython",
    "version": 3
   },
   "file_extension": ".py",
   "mimetype": "text/x-python",
   "name": "python",
   "nbconvert_exporter": "python",
   "pygments_lexer": "ipython3",
   "version": "3.5.3"
  }
 },
 "nbformat": 4,
 "nbformat_minor": 2
}
