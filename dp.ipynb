{
 "cells": [
  {
   "cell_type": "markdown",
   "metadata": {},
   "source": [
    "# Game instructions\n",
    "Consider the following board game: A game board has 12 spaces. The swine senses the Christmas spirit and manages to run away from home couple of weeks beforehand. Fortunately for it, the butcher is a bit of a drunkard and easily distracted. The swine starts on space 7, and a butcher on space 1. On each game turn a 6-sided die is rolled. On a result of 1 to 3, the swine moves that many spaces forward. On a result of 5 or 6, the butcher moves that many spaces forward. On result 4, both advance one space forward. The swine wins if it reaches the river at space 12 (the final roll does not have to be exact, moving past space 12 is OK). The butcher wins if he catches up with the swine (or moves past it).\n",
    "\n",
    "What are the probabilities of winning for the swine and the butcher?\n",
    "\n",
    "Your assignment is to create a mathematical or statistical model to find these probabilities, and implement the solution as a computer program in whatever language you like. You will present it during the interview and we will discuss it with you. \n",
    "\n",
    "Consider the following questions as well: \n",
    "- Can you make your model easily extendable for different initial conditions (board size and initial positions)?\n",
    "- Pros and cons of the approach?\n",
    "- Can you say something about how long the game takes (also under different initial conditions)?"
   ]
  },
  {
   "cell_type": "code",
   "execution_count": 1,
   "metadata": {},
   "outputs": [],
   "source": [
    "import numpy as np\n",
    "import pandas as pd\n",
    "import matplotlib.pyplot as plt\n",
    "import seaborn as sns\n",
    "import itertools"
   ]
  },
  {
   "cell_type": "markdown",
   "metadata": {},
   "source": [
    "# Model: dynamic programming"
   ]
  },
  {
   "cell_type": "markdown",
   "metadata": {},
   "source": [
    "#### Initialize game parameters"
   ]
  },
  {
   "cell_type": "code",
   "execution_count": 2,
   "metadata": {},
   "outputs": [],
   "source": [
    "board_size = 12\n",
    "swine_start = 7\n",
    "butcher_start = 1\n",
    "\n",
    "if butcher_start >= swine_start:\n",
    "    raise ValueError('Error in starting positions: The swine has to start ahead of the butcher.')\n",
    "elif swine_start >= board_size:\n",
    "    raise ValueError('Error in starting positions: The river has to lie ahead of the swine.')"
   ]
  },
  {
   "cell_type": "markdown",
   "metadata": {},
   "source": [
    "#### DP formulation\n",
    "Assume a fixed board size. Let $s$ be the position of the swine on the board, $b$ the position of the butcher on the board, and $F(s, b)$ the probability that the swine wins the game if the swine is at space $s$ and the butcher at space $b$.\n",
    "\n",
    "The recurrence relation can be formulated as follows:\n",
    "\n",
    "\\begin{align}\n",
    "    F(s, b \\mid s \\geq \\text{board size}) = & 1 & \\text{Swine has won with 100% probability if end of board is reached} \\\\\n",
    "    F(s, b \\mid s \\leq b) = & 0 & \\text{Swine wins with 0% probability if the butcher is ahead or at the same square} \\\\\n",
    "    F(s, b) =  & 1/6 \\cdot F(s+1, b) + & \\text{DP recurrence relation} \\\\\n",
    "               & 1/6 \\cdot F(s+2, b) + \\\\\n",
    "               & 1/6 \\cdot F(s+3, b) + \\\\\n",
    "               & 1/6 \\cdot F(s+1, b+1) + \\\\\n",
    "               & 1/6 \\cdot F(s, b+5) + \\\\\n",
    "               & 1/6 \\cdot F(s, b+6)\n",
    "\\end{align}\n",
    "\n",
    "The equations express that the swine's probability of winning is a weighted combination of its winning chances in all possible subsequent states."
   ]
  },
  {
   "cell_type": "markdown",
   "metadata": {},
   "source": [
    "#### Prefill winning probabilities known at start"
   ]
  },
  {
   "cell_type": "code",
   "execution_count": 3,
   "metadata": {},
   "outputs": [],
   "source": [
    "swine_positions = np.arange(swine_start, board_size+1)\n",
    "butcher_positions = np.arange(butcher_start, board_size+1)\n",
    "probs = pd.DataFrame(np.nan*np.ones(shape=(len(swine_positions), len(butcher_positions))), index=swine_positions, columns=butcher_positions)\n",
    "\n",
    "# Swine has won with 100% probability if end of board is reached. \n",
    "probs.loc[board_size, :] = 1.0 \n",
    "\n",
    "# Swine wins with 0% probability if the butcher is ahead or at the same square.\n",
    "# I.e. upper right triangle should be zeros.\n",
    "mask = np.ones(probs.shape, dtype='bool')\n",
    "triu = np.triu_indices(n=probs.shape[0], m=probs.shape[0])\n",
    "mask[tuple([triu[0], triu[1] + probs.shape[1] - probs.shape[0]])] = False\n",
    "probs.where(mask, other=0.0, inplace=True)"
   ]
  },
  {
   "cell_type": "code",
   "execution_count": 4,
   "metadata": {},
   "outputs": [
    {
     "data": {
      "text/html": [
       "<div>\n",
       "<style scoped>\n",
       "    .dataframe tbody tr th:only-of-type {\n",
       "        vertical-align: middle;\n",
       "    }\n",
       "\n",
       "    .dataframe tbody tr th {\n",
       "        vertical-align: top;\n",
       "    }\n",
       "\n",
       "    .dataframe thead th {\n",
       "        text-align: right;\n",
       "    }\n",
       "</style>\n",
       "<table border=\"1\" class=\"dataframe\">\n",
       "  <thead>\n",
       "    <tr style=\"text-align: right;\">\n",
       "      <th></th>\n",
       "      <th>1</th>\n",
       "      <th>2</th>\n",
       "      <th>3</th>\n",
       "      <th>4</th>\n",
       "      <th>5</th>\n",
       "      <th>6</th>\n",
       "      <th>7</th>\n",
       "      <th>8</th>\n",
       "      <th>9</th>\n",
       "      <th>10</th>\n",
       "      <th>11</th>\n",
       "      <th>12</th>\n",
       "    </tr>\n",
       "  </thead>\n",
       "  <tbody>\n",
       "    <tr>\n",
       "      <th>7</th>\n",
       "      <td>NaN</td>\n",
       "      <td>NaN</td>\n",
       "      <td>NaN</td>\n",
       "      <td>NaN</td>\n",
       "      <td>NaN</td>\n",
       "      <td>NaN</td>\n",
       "      <td>0.0</td>\n",
       "      <td>0.0</td>\n",
       "      <td>0.0</td>\n",
       "      <td>0.0</td>\n",
       "      <td>0.0</td>\n",
       "      <td>0.0</td>\n",
       "    </tr>\n",
       "    <tr>\n",
       "      <th>8</th>\n",
       "      <td>NaN</td>\n",
       "      <td>NaN</td>\n",
       "      <td>NaN</td>\n",
       "      <td>NaN</td>\n",
       "      <td>NaN</td>\n",
       "      <td>NaN</td>\n",
       "      <td>NaN</td>\n",
       "      <td>0.0</td>\n",
       "      <td>0.0</td>\n",
       "      <td>0.0</td>\n",
       "      <td>0.0</td>\n",
       "      <td>0.0</td>\n",
       "    </tr>\n",
       "    <tr>\n",
       "      <th>9</th>\n",
       "      <td>NaN</td>\n",
       "      <td>NaN</td>\n",
       "      <td>NaN</td>\n",
       "      <td>NaN</td>\n",
       "      <td>NaN</td>\n",
       "      <td>NaN</td>\n",
       "      <td>NaN</td>\n",
       "      <td>NaN</td>\n",
       "      <td>0.0</td>\n",
       "      <td>0.0</td>\n",
       "      <td>0.0</td>\n",
       "      <td>0.0</td>\n",
       "    </tr>\n",
       "    <tr>\n",
       "      <th>10</th>\n",
       "      <td>NaN</td>\n",
       "      <td>NaN</td>\n",
       "      <td>NaN</td>\n",
       "      <td>NaN</td>\n",
       "      <td>NaN</td>\n",
       "      <td>NaN</td>\n",
       "      <td>NaN</td>\n",
       "      <td>NaN</td>\n",
       "      <td>NaN</td>\n",
       "      <td>0.0</td>\n",
       "      <td>0.0</td>\n",
       "      <td>0.0</td>\n",
       "    </tr>\n",
       "    <tr>\n",
       "      <th>11</th>\n",
       "      <td>NaN</td>\n",
       "      <td>NaN</td>\n",
       "      <td>NaN</td>\n",
       "      <td>NaN</td>\n",
       "      <td>NaN</td>\n",
       "      <td>NaN</td>\n",
       "      <td>NaN</td>\n",
       "      <td>NaN</td>\n",
       "      <td>NaN</td>\n",
       "      <td>NaN</td>\n",
       "      <td>0.0</td>\n",
       "      <td>0.0</td>\n",
       "    </tr>\n",
       "    <tr>\n",
       "      <th>12</th>\n",
       "      <td>1.0</td>\n",
       "      <td>1.0</td>\n",
       "      <td>1.0</td>\n",
       "      <td>1.0</td>\n",
       "      <td>1.0</td>\n",
       "      <td>1.0</td>\n",
       "      <td>1.0</td>\n",
       "      <td>1.0</td>\n",
       "      <td>1.0</td>\n",
       "      <td>1.0</td>\n",
       "      <td>1.0</td>\n",
       "      <td>0.0</td>\n",
       "    </tr>\n",
       "  </tbody>\n",
       "</table>\n",
       "</div>"
      ],
      "text/plain": [
       "     1    2    3    4    5    6    7    8    9    10   11   12\n",
       "7   NaN  NaN  NaN  NaN  NaN  NaN  0.0  0.0  0.0  0.0  0.0  0.0\n",
       "8   NaN  NaN  NaN  NaN  NaN  NaN  NaN  0.0  0.0  0.0  0.0  0.0\n",
       "9   NaN  NaN  NaN  NaN  NaN  NaN  NaN  NaN  0.0  0.0  0.0  0.0\n",
       "10  NaN  NaN  NaN  NaN  NaN  NaN  NaN  NaN  NaN  0.0  0.0  0.0\n",
       "11  NaN  NaN  NaN  NaN  NaN  NaN  NaN  NaN  NaN  NaN  0.0  0.0\n",
       "12  1.0  1.0  1.0  1.0  1.0  1.0  1.0  1.0  1.0  1.0  1.0  0.0"
      ]
     },
     "execution_count": 4,
     "metadata": {},
     "output_type": "execute_result"
    }
   ],
   "source": [
    "probs"
   ]
  },
  {
   "cell_type": "markdown",
   "metadata": {},
   "source": [
    "#### Solve DP"
   ]
  },
  {
   "cell_type": "code",
   "execution_count": 5,
   "metadata": {},
   "outputs": [],
   "source": [
    "def F(probs, sp, bp):\n",
    "    \"\"\"Calculate the swine's probability of winning based on the current swine and butcher position.\n",
    "    \n",
    "    Arguments\n",
    "        - probs: dataframe of swine's winning chances (known and unknown)\n",
    "        - sp:    swine's current position\n",
    "        - bp:    butcher's current position\n",
    "    \"\"\"\n",
    "    \n",
    "    # Check that the current positions are not lower than the starting positions.\n",
    "    if sp < probs.index.min():\n",
    "        sp = probs.index.min()\n",
    "        print('Swine position lower than starting position: using swine starting position ({}) instead.'.format(swine_start))\n",
    "    if bp < probs.columns.min():\n",
    "        bp = probs.columns.min()\n",
    "        print('Butcher position lower than starting position: using butcher starting position ({}) instead.'.format(butcher_start))\n",
    "    \n",
    "    # Check that neither the swine nor the butcher has already reached the end of the board.\n",
    "    # If so, reset position to the last space on the board.\n",
    "    if sp > probs.index.max():\n",
    "#         print('Swine position exceeds board length: using highest possible position instead.')\n",
    "        sp = probs.index.max()\n",
    "    if bp > probs.columns.max():\n",
    "#         print('Butcher position exceeds board length: using highest possible position instead.')\n",
    "        bp = probs.columns.max()\n",
    "    \n",
    "    # If the requested probability is already known: return from storage.\n",
    "    if not np.isnan(probs.loc[sp, bp]):\n",
    "        return probs.loc[sp, bp]\n",
    "    \n",
    "    # Else: calculate the requested probability according to the DP recurrence, store and return.\n",
    "    else:\n",
    "        prob = 1/6 * F(probs, sp+1, bp) \\\n",
    "               + 1/6 * F(probs, sp+2, bp) \\\n",
    "               + 1/6 * F(probs, sp+3, bp) \\\n",
    "               + 1/6 * F(probs, sp+1, bp+1) \\\n",
    "               + 1/6 * F(probs, sp, bp+5) \\\n",
    "               + 1/6 * F(probs, sp, bp+6)\n",
    "        \n",
    "        probs.loc[sp, bp] = prob\n",
    "        \n",
    "        return prob"
   ]
  },
  {
   "cell_type": "code",
   "execution_count": 6,
   "metadata": {},
   "outputs": [
    {
     "name": "stdout",
     "output_type": "stream",
     "text": [
      "The swine and the butcher start at space 7 and 1 respectively. The board is 12 spaces long.\n",
      "The probability that the swine wins is 51.2%.\n"
     ]
    }
   ],
   "source": [
    "swine_winning_prob = F(probs, swine_start, butcher_start)\n",
    "print('The swine and the butcher start at space {} and {} respectively. The board is {} spaces long.'.format(swine_start, butcher_start, board_size))\n",
    "print('The probability that the swine wins is {:.1f}%.'.format(swine_winning_prob*100))"
   ]
  }
 ],
 "metadata": {
  "kernelspec": {
   "display_name": "py35",
   "language": "python",
   "name": "py35"
  },
  "language_info": {
   "codemirror_mode": {
    "name": "ipython",
    "version": 3
   },
   "file_extension": ".py",
   "mimetype": "text/x-python",
   "name": "python",
   "nbconvert_exporter": "python",
   "pygments_lexer": "ipython3",
   "version": "3.5.5"
  }
 },
 "nbformat": 4,
 "nbformat_minor": 2
}
